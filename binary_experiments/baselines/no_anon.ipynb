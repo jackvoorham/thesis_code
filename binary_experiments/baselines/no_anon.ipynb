{
 "cells": [
  {
   "cell_type": "markdown",
   "metadata": {},
   "source": [
    "## Start up"
   ]
  },
  {
   "cell_type": "code",
   "execution_count": 2,
   "metadata": {},
   "outputs": [],
   "source": [
    "import pandas as pd\n",
    "import seaborn as sns\n",
    "from enum import Enum     # for enum34, or the stdlib version\n",
    "from pycaret.classification import *\n",
    "from anonymizeip import anonymize_ip\n",
    "\n",
    "class AnonTypes(Enum):\n",
    "    BM = 0 # black marker \n",
    "    BI = 1 # bilateral classification\n",
    "    NO = 2 # no anonymization\n",
    "    \n",
    "sample = 0\n",
    "binary = 1\n",
    "\n",
    "# anonymization flag\n",
    "tlp_anonymization = AnonTypes.NO\n",
    "ip_proto_anonymization = AnonTypes.NO\n",
    "pkt_counter_anonymization = AnonTypes.NO\n",
    "oct_counter_anonymization = AnonTypes.NO"
   ]
  },
  {
   "cell_type": "code",
   "execution_count": 3,
   "metadata": {},
   "outputs": [],
   "source": [
    "from typing import List\n",
    "\n",
    "def optimize_floats(df: pd.DataFrame) -> pd.DataFrame:\n",
    "    floats = df.select_dtypes(include=['float64']).columns.tolist()\n",
    "    df[floats] = df[floats].apply(pd.to_numeric, downcast='float')\n",
    "    return df\n",
    "\n",
    "\n",
    "def optimize_ints(df: pd.DataFrame) -> pd.DataFrame:\n",
    "    ints = df.select_dtypes(include=['int64']).columns.tolist()\n",
    "    df[ints] = df[ints].apply(pd.to_numeric, downcast='integer')\n",
    "    return df\n",
    "\n",
    "\n",
    "def optimize_objects(df: pd.DataFrame, datetime_features: List[str]) -> pd.DataFrame:\n",
    "    for col in df.select_dtypes(include=['object']):\n",
    "        if col not in datetime_features:\n",
    "            if not (type(df[col][0])==list):\n",
    "                num_unique_values = len(df[col].unique())\n",
    "                num_total_values = len(df[col])\n",
    "                if float(num_unique_values) / num_total_values < 0.5:\n",
    "                    df[col] = df[col].astype('category')\n",
    "        else:\n",
    "            df[col] = pd.to_datetime(df[col])\n",
    "    return df\n",
    "\n",
    "\n",
    "\n",
    "def optimize(df: pd.DataFrame, datetime_features: List[str] = []):\n",
    "    return optimize_floats(optimize_ints(optimize_objects(df, datetime_features)))"
   ]
  },
  {
   "cell_type": "code",
   "execution_count": 4,
   "metadata": {},
   "outputs": [],
   "source": [
    "df = pd.read_csv(\"../../NF-ToN-IoT.csv\")"
   ]
  },
  {
   "cell_type": "markdown",
   "metadata": {},
   "source": [
    "## Checks"
   ]
  },
  {
   "cell_type": "markdown",
   "metadata": {},
   "source": [
    "### ================================================================="
   ]
  },
  {
   "cell_type": "code",
   "execution_count": 5,
   "metadata": {},
   "outputs": [
    {
     "data": {
      "text/plain": [
       "Index                             128\n",
       "L4_SRC_PORT                   5517096\n",
       "L4_DST_PORT                   5517096\n",
       "PROTOCOL                      1379274\n",
       "IN_BYTES                      5517096\n",
       "OUT_BYTES                     5517096\n",
       "IN_PKTS                       5517096\n",
       "OUT_PKTS                      5517096\n",
       "TCP_FLAGS                     2758548\n",
       "FLOW_DURATION_MILLISECONDS    5517096\n",
       "Label                         1379274\n",
       "Attack                        1379654\n",
       "dtype: int64"
      ]
     },
     "execution_count": 5,
     "metadata": {},
     "output_type": "execute_result"
    }
   ],
   "source": [
    "# Remove non-ipfix standardized features\n",
    "# See: https://www.ntop.org/guides/nprobe/cli_options.html#netflow-v9-ipfix-format-t\n",
    "# Thesis: Refer to table 2 for feature names and descriptions\n",
    "\n",
    "df_ipfix = df[['L4_SRC_PORT', 'L4_DST_PORT', 'PROTOCOL', 'IN_BYTES', 'OUT_BYTES', 'IN_PKTS', 'OUT_PKTS', 'TCP_FLAGS', 'FLOW_DURATION_MILLISECONDS', 'Label', 'Attack']]\n",
    "#df_ipfix['IPV4_SRC_ADDR'] = df_ipfix['IPV4_SRC_ADDR'].astype('category')\n",
    "#df_ipfix['IPV4_DST_ADDR'] = df_ipfix['IPV4_DST_ADDR'].astype('category')\n",
    "\n",
    "df_ipfix = optimize(df_ipfix, [])\n",
    "df_ipfix.memory_usage()"
   ]
  },
  {
   "cell_type": "markdown",
   "metadata": {},
   "source": []
  },
  {
   "cell_type": "code",
   "execution_count": 6,
   "metadata": {},
   "outputs": [],
   "source": [
    "if(binary):\n",
    "    df_ = df_ipfix.drop(\"Attack\", axis=1)\n",
    "else:\n",
    "    df_ = df_ipfix.drop(\"Label\", axis=1)\n",
    "\n",
    "# Sample data\n",
    "if(sample):\n",
    "    df_ = df_.sample(n=1000000)"
   ]
  },
  {
   "cell_type": "markdown",
   "metadata": {},
   "source": [
    "## Feature Anonymization Functions"
   ]
  },
  {
   "cell_type": "code",
   "execution_count": 7,
   "metadata": {},
   "outputs": [],
   "source": [
    "def anon_tlp(anon_type, df):\n",
    "    if(anon_type == AnonTypes.BI): # based on - https://datatracker.ietf.org/doc/html/draft-ietf-ipfix-anon#section-4.5.1\n",
    "        df['L4_SRC_PORT'] = [0 if int(x) <= 1023 else 1 for x in df['L4_SRC_PORT']]\n",
    "        df['L4_DST_PORT'] = [0 if int(x) <= 1023 else 1 for x in df['L4_DST_PORT']]\n",
    "    elif(anon_type == AnonTypes.BM):\n",
    "        df['L4_SRC_PORT'] = 0\n",
    "        df['L4_DST_PORT'] = 0\n",
    " \n",
    "    return df\n",
    "    \n",
    "def anon_pkt_counters(anon_type, df): \n",
    "    if(anon_type == AnonTypes.BI): # based on - https://datatracker.ietf.org/doc/html/draft-ietf-ipfix-anon#section-4.4.2\n",
    "        df['IN_PKTS'] = [0 if int(x) <= 2 else 1 for x in df['IN_PKTS']]\n",
    "        df['OUT_PKTS'] = [0 if int(x) <= 2 else 1 for x in df['OUT_PKTS']]\n",
    "    elif(anon_type == AnonTypes.BM): \n",
    "        df['IN_PKTS'] = 0\n",
    "        df['OUT_PKTS'] = 0\n",
    "    \n",
    "    return df\n",
    "\n",
    "def anon_octet_counters(anon_type, df): \n",
    "    mean_bytes_in = round(df_['IN_BYTES'].mean()) \n",
    "    mean_bytes_out= round(df_['OUT_BYTES'].mean()) \n",
    "\n",
    "    if(anon_type == AnonTypes.BI): # based on - https://datatracker.ietf.org/doc/html/draft-ietf-ipfix-anon#section-4.4.2\n",
    "        df['IN_BYTES'] = [0 if int(x) <= mean_bytes_in else 1 for x in df['IN_BYTES']]\n",
    "        df['OUT_BYTES'] = [0 if int(x) <= mean_bytes_out else 1 for x in df['OUT_BYTES']]\n",
    "    elif(anon_type == AnonTypes.BM): \n",
    "        df['IN_BYTES'] = 0\n",
    "        df['OUT_BYTES'] = 0\n",
    "    \n",
    "    return df\n",
    "\n",
    "def anon_ip_proto(anon_type, df):\n",
    "    grouped_protocols = [1, 6, 17] # 1, 6, and 17 for ICMP, UDP, and TCP \n",
    "\n",
    "    if(anon_type == AnonTypes.BI): # based on - https://datatracker.ietf.org/doc/html/draft-ietf-ipfix-anon#section-4.5.1\n",
    "        df['PROTOCOL'] = [0 if int(x) in grouped_protocols else 1 for x in df['PROTOCOL']] \n",
    "    elif(anon_type == AnonTypes.BM): \n",
    "        df['PROTOCOL'] = 0\n",
    "        \n",
    "    return df"
   ]
  },
  {
   "cell_type": "markdown",
   "metadata": {},
   "source": [
    "### Anonymization iterations "
   ]
  },
  {
   "cell_type": "code",
   "execution_count": 8,
   "metadata": {},
   "outputs": [
    {
     "data": {
      "text/html": [
       "<div>\n",
       "<style scoped>\n",
       "    .dataframe tbody tr th:only-of-type {\n",
       "        vertical-align: middle;\n",
       "    }\n",
       "\n",
       "    .dataframe tbody tr th {\n",
       "        vertical-align: top;\n",
       "    }\n",
       "\n",
       "    .dataframe thead th {\n",
       "        text-align: right;\n",
       "    }\n",
       "</style>\n",
       "<table border=\"1\" class=\"dataframe\">\n",
       "  <thead>\n",
       "    <tr style=\"text-align: right;\">\n",
       "      <th></th>\n",
       "      <th>L4_SRC_PORT</th>\n",
       "      <th>L4_DST_PORT</th>\n",
       "      <th>PROTOCOL</th>\n",
       "      <th>IN_BYTES</th>\n",
       "      <th>OUT_BYTES</th>\n",
       "      <th>IN_PKTS</th>\n",
       "      <th>OUT_PKTS</th>\n",
       "      <th>TCP_FLAGS</th>\n",
       "      <th>FLOW_DURATION_MILLISECONDS</th>\n",
       "      <th>Label</th>\n",
       "    </tr>\n",
       "  </thead>\n",
       "  <tbody>\n",
       "    <tr>\n",
       "      <th>0</th>\n",
       "      <td>1</td>\n",
       "      <td>0</td>\n",
       "      <td>0</td>\n",
       "      <td>0</td>\n",
       "      <td>0</td>\n",
       "      <td>0</td>\n",
       "      <td>0</td>\n",
       "      <td>24</td>\n",
       "      <td>327</td>\n",
       "      <td>0</td>\n",
       "    </tr>\n",
       "    <tr>\n",
       "      <th>1</th>\n",
       "      <td>1</td>\n",
       "      <td>1</td>\n",
       "      <td>0</td>\n",
       "      <td>0</td>\n",
       "      <td>0</td>\n",
       "      <td>0</td>\n",
       "      <td>0</td>\n",
       "      <td>0</td>\n",
       "      <td>0</td>\n",
       "      <td>0</td>\n",
       "    </tr>\n",
       "    <tr>\n",
       "      <th>2</th>\n",
       "      <td>1</td>\n",
       "      <td>1</td>\n",
       "      <td>0</td>\n",
       "      <td>0</td>\n",
       "      <td>0</td>\n",
       "      <td>0</td>\n",
       "      <td>0</td>\n",
       "      <td>0</td>\n",
       "      <td>0</td>\n",
       "      <td>0</td>\n",
       "    </tr>\n",
       "    <tr>\n",
       "      <th>3</th>\n",
       "      <td>0</td>\n",
       "      <td>0</td>\n",
       "      <td>0</td>\n",
       "      <td>0</td>\n",
       "      <td>0</td>\n",
       "      <td>0</td>\n",
       "      <td>0</td>\n",
       "      <td>0</td>\n",
       "      <td>0</td>\n",
       "      <td>0</td>\n",
       "    </tr>\n",
       "    <tr>\n",
       "      <th>4</th>\n",
       "      <td>1</td>\n",
       "      <td>1</td>\n",
       "      <td>0</td>\n",
       "      <td>0</td>\n",
       "      <td>0</td>\n",
       "      <td>0</td>\n",
       "      <td>0</td>\n",
       "      <td>0</td>\n",
       "      <td>0</td>\n",
       "      <td>0</td>\n",
       "    </tr>\n",
       "  </tbody>\n",
       "</table>\n",
       "</div>"
      ],
      "text/plain": [
       "   L4_SRC_PORT  L4_DST_PORT  PROTOCOL  IN_BYTES  OUT_BYTES  IN_PKTS  OUT_PKTS  \\\n",
       "0            1            0         0         0          0        0         0   \n",
       "1            1            1         0         0          0        0         0   \n",
       "2            1            1         0         0          0        0         0   \n",
       "3            0            0         0         0          0        0         0   \n",
       "4            1            1         0         0          0        0         0   \n",
       "\n",
       "   TCP_FLAGS  FLOW_DURATION_MILLISECONDS  Label  \n",
       "0         24                         327      0  \n",
       "1          0                           0      0  \n",
       "2          0                           0      0  \n",
       "3          0                           0      0  \n",
       "4          0                           0      0  "
      ]
     },
     "execution_count": 8,
     "metadata": {},
     "output_type": "execute_result"
    }
   ],
   "source": [
    "#print(df_['L4_SRC_PORT'].value_counts())\n",
    "df_ = anon_tlp(tlp_anonymization, df_)\n",
    "df_ = anon_pkt_counters(pkt_counter_anonymization, df_)\n",
    "df_ = anon_octet_counters(oct_counter_anonymization, df_)\n",
    "df_ = anon_ip_proto(ip_proto_anonymization, df_)\n",
    "\n",
    "df_.head()"
   ]
  },
  {
   "cell_type": "markdown",
   "metadata": {},
   "source": [
    "### ================================================================="
   ]
  },
  {
   "cell_type": "markdown",
   "metadata": {},
   "source": [
    "## Setup"
   ]
  },
  {
   "cell_type": "code",
   "execution_count": 9,
   "metadata": {},
   "outputs": [
    {
     "data": {
      "text/html": [
       "<style type=\"text/css\">\n",
       "#T_74b76_row10_col1, #T_74b76_row16_col1, #T_74b76_row18_col1 {\n",
       "  background-color: lightgreen;\n",
       "}\n",
       "</style>\n",
       "<table id=\"T_74b76\">\n",
       "  <thead>\n",
       "    <tr>\n",
       "      <th class=\"blank level0\" >&nbsp;</th>\n",
       "      <th id=\"T_74b76_level0_col0\" class=\"col_heading level0 col0\" >Description</th>\n",
       "      <th id=\"T_74b76_level0_col1\" class=\"col_heading level0 col1\" >Value</th>\n",
       "    </tr>\n",
       "  </thead>\n",
       "  <tbody>\n",
       "    <tr>\n",
       "      <th id=\"T_74b76_level0_row0\" class=\"row_heading level0 row0\" >0</th>\n",
       "      <td id=\"T_74b76_row0_col0\" class=\"data row0 col0\" >Session id</td>\n",
       "      <td id=\"T_74b76_row0_col1\" class=\"data row0 col1\" >2738</td>\n",
       "    </tr>\n",
       "    <tr>\n",
       "      <th id=\"T_74b76_level0_row1\" class=\"row_heading level0 row1\" >1</th>\n",
       "      <td id=\"T_74b76_row1_col0\" class=\"data row1 col0\" >Target</td>\n",
       "      <td id=\"T_74b76_row1_col1\" class=\"data row1 col1\" >Label</td>\n",
       "    </tr>\n",
       "    <tr>\n",
       "      <th id=\"T_74b76_level0_row2\" class=\"row_heading level0 row2\" >2</th>\n",
       "      <td id=\"T_74b76_row2_col0\" class=\"data row2 col0\" >Target type</td>\n",
       "      <td id=\"T_74b76_row2_col1\" class=\"data row2 col1\" >Binary</td>\n",
       "    </tr>\n",
       "    <tr>\n",
       "      <th id=\"T_74b76_level0_row3\" class=\"row_heading level0 row3\" >3</th>\n",
       "      <td id=\"T_74b76_row3_col0\" class=\"data row3 col0\" >Original data shape</td>\n",
       "      <td id=\"T_74b76_row3_col1\" class=\"data row3 col1\" >(1379274, 10)</td>\n",
       "    </tr>\n",
       "    <tr>\n",
       "      <th id=\"T_74b76_level0_row4\" class=\"row_heading level0 row4\" >4</th>\n",
       "      <td id=\"T_74b76_row4_col0\" class=\"data row4 col0\" >Transformed data shape</td>\n",
       "      <td id=\"T_74b76_row4_col1\" class=\"data row4 col1\" >(1966375, 10)</td>\n",
       "    </tr>\n",
       "    <tr>\n",
       "      <th id=\"T_74b76_level0_row5\" class=\"row_heading level0 row5\" >5</th>\n",
       "      <td id=\"T_74b76_row5_col0\" class=\"data row5 col0\" >Transformed train set shape</td>\n",
       "      <td id=\"T_74b76_row5_col1\" class=\"data row5 col1\" >(1552592, 10)</td>\n",
       "    </tr>\n",
       "    <tr>\n",
       "      <th id=\"T_74b76_level0_row6\" class=\"row_heading level0 row6\" >6</th>\n",
       "      <td id=\"T_74b76_row6_col0\" class=\"data row6 col0\" >Transformed test set shape</td>\n",
       "      <td id=\"T_74b76_row6_col1\" class=\"data row6 col1\" >(413783, 10)</td>\n",
       "    </tr>\n",
       "    <tr>\n",
       "      <th id=\"T_74b76_level0_row7\" class=\"row_heading level0 row7\" >7</th>\n",
       "      <td id=\"T_74b76_row7_col0\" class=\"data row7 col0\" >Ordinal features</td>\n",
       "      <td id=\"T_74b76_row7_col1\" class=\"data row7 col1\" >3</td>\n",
       "    </tr>\n",
       "    <tr>\n",
       "      <th id=\"T_74b76_level0_row8\" class=\"row_heading level0 row8\" >8</th>\n",
       "      <td id=\"T_74b76_row8_col0\" class=\"data row8 col0\" >Numeric features</td>\n",
       "      <td id=\"T_74b76_row8_col1\" class=\"data row8 col1\" >5</td>\n",
       "    </tr>\n",
       "    <tr>\n",
       "      <th id=\"T_74b76_level0_row9\" class=\"row_heading level0 row9\" >9</th>\n",
       "      <td id=\"T_74b76_row9_col0\" class=\"data row9 col0\" >Categorical features</td>\n",
       "      <td id=\"T_74b76_row9_col1\" class=\"data row9 col1\" >4</td>\n",
       "    </tr>\n",
       "    <tr>\n",
       "      <th id=\"T_74b76_level0_row10\" class=\"row_heading level0 row10\" >10</th>\n",
       "      <td id=\"T_74b76_row10_col0\" class=\"data row10 col0\" >Preprocess</td>\n",
       "      <td id=\"T_74b76_row10_col1\" class=\"data row10 col1\" >1</td>\n",
       "    </tr>\n",
       "    <tr>\n",
       "      <th id=\"T_74b76_level0_row11\" class=\"row_heading level0 row11\" >11</th>\n",
       "      <td id=\"T_74b76_row11_col0\" class=\"data row11 col0\" >Imputation type</td>\n",
       "      <td id=\"T_74b76_row11_col1\" class=\"data row11 col1\" >simple</td>\n",
       "    </tr>\n",
       "    <tr>\n",
       "      <th id=\"T_74b76_level0_row12\" class=\"row_heading level0 row12\" >12</th>\n",
       "      <td id=\"T_74b76_row12_col0\" class=\"data row12 col0\" >Numeric imputation</td>\n",
       "      <td id=\"T_74b76_row12_col1\" class=\"data row12 col1\" >mean</td>\n",
       "    </tr>\n",
       "    <tr>\n",
       "      <th id=\"T_74b76_level0_row13\" class=\"row_heading level0 row13\" >13</th>\n",
       "      <td id=\"T_74b76_row13_col0\" class=\"data row13 col0\" >Categorical imputation</td>\n",
       "      <td id=\"T_74b76_row13_col1\" class=\"data row13 col1\" >constant</td>\n",
       "    </tr>\n",
       "    <tr>\n",
       "      <th id=\"T_74b76_level0_row14\" class=\"row_heading level0 row14\" >14</th>\n",
       "      <td id=\"T_74b76_row14_col0\" class=\"data row14 col0\" >Maximum one-hot encoding</td>\n",
       "      <td id=\"T_74b76_row14_col1\" class=\"data row14 col1\" >5</td>\n",
       "    </tr>\n",
       "    <tr>\n",
       "      <th id=\"T_74b76_level0_row15\" class=\"row_heading level0 row15\" >15</th>\n",
       "      <td id=\"T_74b76_row15_col0\" class=\"data row15 col0\" >Encoding method</td>\n",
       "      <td id=\"T_74b76_row15_col1\" class=\"data row15 col1\" >None</td>\n",
       "    </tr>\n",
       "    <tr>\n",
       "      <th id=\"T_74b76_level0_row16\" class=\"row_heading level0 row16\" >16</th>\n",
       "      <td id=\"T_74b76_row16_col0\" class=\"data row16 col0\" >Fix imbalance</td>\n",
       "      <td id=\"T_74b76_row16_col1\" class=\"data row16 col1\" >1</td>\n",
       "    </tr>\n",
       "    <tr>\n",
       "      <th id=\"T_74b76_level0_row17\" class=\"row_heading level0 row17\" >17</th>\n",
       "      <td id=\"T_74b76_row17_col0\" class=\"data row17 col0\" >Fix imbalance method</td>\n",
       "      <td id=\"T_74b76_row17_col1\" class=\"data row17 col1\" >None</td>\n",
       "    </tr>\n",
       "    <tr>\n",
       "      <th id=\"T_74b76_level0_row18\" class=\"row_heading level0 row18\" >18</th>\n",
       "      <td id=\"T_74b76_row18_col0\" class=\"data row18 col0\" >Normalize</td>\n",
       "      <td id=\"T_74b76_row18_col1\" class=\"data row18 col1\" >1</td>\n",
       "    </tr>\n",
       "    <tr>\n",
       "      <th id=\"T_74b76_level0_row19\" class=\"row_heading level0 row19\" >19</th>\n",
       "      <td id=\"T_74b76_row19_col0\" class=\"data row19 col0\" >Normalize method</td>\n",
       "      <td id=\"T_74b76_row19_col1\" class=\"data row19 col1\" >zscore</td>\n",
       "    </tr>\n",
       "    <tr>\n",
       "      <th id=\"T_74b76_level0_row20\" class=\"row_heading level0 row20\" >20</th>\n",
       "      <td id=\"T_74b76_row20_col0\" class=\"data row20 col0\" >Fold Generator</td>\n",
       "      <td id=\"T_74b76_row20_col1\" class=\"data row20 col1\" >StratifiedKFold</td>\n",
       "    </tr>\n",
       "    <tr>\n",
       "      <th id=\"T_74b76_level0_row21\" class=\"row_heading level0 row21\" >21</th>\n",
       "      <td id=\"T_74b76_row21_col0\" class=\"data row21 col0\" >Fold Number</td>\n",
       "      <td id=\"T_74b76_row21_col1\" class=\"data row21 col1\" >10</td>\n",
       "    </tr>\n",
       "    <tr>\n",
       "      <th id=\"T_74b76_level0_row22\" class=\"row_heading level0 row22\" >22</th>\n",
       "      <td id=\"T_74b76_row22_col0\" class=\"data row22 col0\" >CPU Jobs</td>\n",
       "      <td id=\"T_74b76_row22_col1\" class=\"data row22 col1\" >-1</td>\n",
       "    </tr>\n",
       "    <tr>\n",
       "      <th id=\"T_74b76_level0_row23\" class=\"row_heading level0 row23\" >23</th>\n",
       "      <td id=\"T_74b76_row23_col0\" class=\"data row23 col0\" >Use GPU</td>\n",
       "      <td id=\"T_74b76_row23_col1\" class=\"data row23 col1\" >0</td>\n",
       "    </tr>\n",
       "    <tr>\n",
       "      <th id=\"T_74b76_level0_row24\" class=\"row_heading level0 row24\" >24</th>\n",
       "      <td id=\"T_74b76_row24_col0\" class=\"data row24 col0\" >Log Experiment</td>\n",
       "      <td id=\"T_74b76_row24_col1\" class=\"data row24 col1\" >0</td>\n",
       "    </tr>\n",
       "    <tr>\n",
       "      <th id=\"T_74b76_level0_row25\" class=\"row_heading level0 row25\" >25</th>\n",
       "      <td id=\"T_74b76_row25_col0\" class=\"data row25 col0\" >Experiment Name</td>\n",
       "      <td id=\"T_74b76_row25_col1\" class=\"data row25 col1\" >binary</td>\n",
       "    </tr>\n",
       "    <tr>\n",
       "      <th id=\"T_74b76_level0_row26\" class=\"row_heading level0 row26\" >26</th>\n",
       "      <td id=\"T_74b76_row26_col0\" class=\"data row26 col0\" >USI</td>\n",
       "      <td id=\"T_74b76_row26_col1\" class=\"data row26 col1\" >5c1f</td>\n",
       "    </tr>\n",
       "  </tbody>\n",
       "</table>\n"
      ],
      "text/plain": [
       "<pandas.io.formats.style.Styler at 0x2c38c48b0>"
      ]
     },
     "metadata": {},
     "output_type": "display_data"
    }
   ],
   "source": [
    "#df_['ICMP_TYPE'] = df_['ICMP_TYPE'].astype(str)\n",
    "#df_['ICMP_IPV4_TYPE'] = df_['ICMP_IPV4_TYPE'].astype(str)\n",
    "categorical = ['L4_SRC_PORT', 'L4_DST_PORT', 'PROTOCOL', 'TCP_FLAGS']\n",
    "\n",
    "for f in categorical:\n",
    "    df_[f] = df_[f].astype('str')\n",
    "\n",
    "#df_ = df_[['TCP_FLAGS', 'FLOW_DURATION_MILLISECONDS', 'Label']]\n",
    "\n",
    "if(binary):\n",
    "    session_binary = setup(df_, target = 'Label', experiment_name='binary', categorical_features = categorical, normalize=True, fix_imbalance=True)\n",
    "else:\n",
    "    session_multi = setup(df_, target = 'Attack', experiment_name='multiclass', categorical_features = categorical, normalize=True, fix_imbalance=True)"
   ]
  },
  {
   "cell_type": "markdown",
   "metadata": {},
   "source": []
  },
  {
   "cell_type": "code",
   "execution_count": 10,
   "metadata": {},
   "outputs": [
    {
     "data": {
      "text/html": [],
      "text/plain": [
       "<IPython.core.display.HTML object>"
      ]
     },
     "metadata": {},
     "output_type": "display_data"
    },
    {
     "data": {
      "text/html": [
       "<style type=\"text/css\">\n",
       "#T_7af19 th {\n",
       "  text-align: left;\n",
       "}\n",
       "#T_7af19_row0_col0, #T_7af19_row0_col4, #T_7af19_row1_col0, #T_7af19_row1_col1, #T_7af19_row1_col2, #T_7af19_row1_col3, #T_7af19_row1_col5, #T_7af19_row1_col6, #T_7af19_row1_col7, #T_7af19_row2_col0, #T_7af19_row2_col1, #T_7af19_row2_col2, #T_7af19_row2_col3, #T_7af19_row2_col4, #T_7af19_row2_col5, #T_7af19_row2_col6, #T_7af19_row2_col7 {\n",
       "  text-align: left;\n",
       "}\n",
       "#T_7af19_row0_col1, #T_7af19_row0_col2, #T_7af19_row0_col3, #T_7af19_row0_col5, #T_7af19_row0_col6, #T_7af19_row0_col7, #T_7af19_row1_col4 {\n",
       "  text-align: left;\n",
       "  background-color: yellow;\n",
       "}\n",
       "#T_7af19_row0_col8, #T_7af19_row1_col8 {\n",
       "  text-align: left;\n",
       "  background-color: lightgrey;\n",
       "}\n",
       "#T_7af19_row2_col8 {\n",
       "  text-align: left;\n",
       "  background-color: yellow;\n",
       "  background-color: lightgrey;\n",
       "}\n",
       "</style>\n",
       "<table id=\"T_7af19\">\n",
       "  <thead>\n",
       "    <tr>\n",
       "      <th class=\"blank level0\" >&nbsp;</th>\n",
       "      <th id=\"T_7af19_level0_col0\" class=\"col_heading level0 col0\" >Model</th>\n",
       "      <th id=\"T_7af19_level0_col1\" class=\"col_heading level0 col1\" >Accuracy</th>\n",
       "      <th id=\"T_7af19_level0_col2\" class=\"col_heading level0 col2\" >AUC</th>\n",
       "      <th id=\"T_7af19_level0_col3\" class=\"col_heading level0 col3\" >Recall</th>\n",
       "      <th id=\"T_7af19_level0_col4\" class=\"col_heading level0 col4\" >Prec.</th>\n",
       "      <th id=\"T_7af19_level0_col5\" class=\"col_heading level0 col5\" >F1</th>\n",
       "      <th id=\"T_7af19_level0_col6\" class=\"col_heading level0 col6\" >Kappa</th>\n",
       "      <th id=\"T_7af19_level0_col7\" class=\"col_heading level0 col7\" >MCC</th>\n",
       "      <th id=\"T_7af19_level0_col8\" class=\"col_heading level0 col8\" >TT (Sec)</th>\n",
       "    </tr>\n",
       "  </thead>\n",
       "  <tbody>\n",
       "    <tr>\n",
       "      <th id=\"T_7af19_level0_row0\" class=\"row_heading level0 row0\" >nb</th>\n",
       "      <td id=\"T_7af19_row0_col0\" class=\"data row0 col0\" >Naive Bayes</td>\n",
       "      <td id=\"T_7af19_row0_col1\" class=\"data row0 col1\" >0.9670</td>\n",
       "      <td id=\"T_7af19_row0_col2\" class=\"data row0 col2\" >0.9838</td>\n",
       "      <td id=\"T_7af19_row0_col3\" class=\"data row0 col3\" >0.9859</td>\n",
       "      <td id=\"T_7af19_row0_col4\" class=\"data row0 col4\" >0.9734</td>\n",
       "      <td id=\"T_7af19_row0_col5\" class=\"data row0 col5\" >0.9796</td>\n",
       "      <td id=\"T_7af19_row0_col6\" class=\"data row0 col6\" >0.8931</td>\n",
       "      <td id=\"T_7af19_row0_col7\" class=\"data row0 col7\" >0.8936</td>\n",
       "      <td id=\"T_7af19_row0_col8\" class=\"data row0 col8\" >20.7950</td>\n",
       "    </tr>\n",
       "    <tr>\n",
       "      <th id=\"T_7af19_level0_row1\" class=\"row_heading level0 row1\" >svm</th>\n",
       "      <td id=\"T_7af19_row1_col0\" class=\"data row1 col0\" >SVM - Linear Kernel</td>\n",
       "      <td id=\"T_7af19_row1_col1\" class=\"data row1 col1\" >0.9348</td>\n",
       "      <td id=\"T_7af19_row1_col2\" class=\"data row1 col2\" >0.0000</td>\n",
       "      <td id=\"T_7af19_row1_col3\" class=\"data row1 col3\" >0.9248</td>\n",
       "      <td id=\"T_7af19_row1_col4\" class=\"data row1 col4\" >0.9937</td>\n",
       "      <td id=\"T_7af19_row1_col5\" class=\"data row1 col5\" >0.9580</td>\n",
       "      <td id=\"T_7af19_row1_col6\" class=\"data row1 col6\" >0.8131</td>\n",
       "      <td id=\"T_7af19_row1_col7\" class=\"data row1 col7\" >0.8237</td>\n",
       "      <td id=\"T_7af19_row1_col8\" class=\"data row1 col8\" >2.8030</td>\n",
       "    </tr>\n",
       "    <tr>\n",
       "      <th id=\"T_7af19_level0_row2\" class=\"row_heading level0 row2\" >dt</th>\n",
       "      <td id=\"T_7af19_row2_col0\" class=\"data row2 col0\" >Decision Tree Classifier</td>\n",
       "      <td id=\"T_7af19_row2_col1\" class=\"data row2 col1\" >0.9191</td>\n",
       "      <td id=\"T_7af19_row2_col2\" class=\"data row2 col2\" >0.9024</td>\n",
       "      <td id=\"T_7af19_row2_col3\" class=\"data row2 col3\" >0.9299</td>\n",
       "      <td id=\"T_7af19_row2_col4\" class=\"data row2 col4\" >0.9683</td>\n",
       "      <td id=\"T_7af19_row2_col5\" class=\"data row2 col5\" >0.9487</td>\n",
       "      <td id=\"T_7af19_row2_col6\" class=\"data row2 col6\" >0.7583</td>\n",
       "      <td id=\"T_7af19_row2_col7\" class=\"data row2 col7\" >0.7619</td>\n",
       "      <td id=\"T_7af19_row2_col8\" class=\"data row2 col8\" >2.5640</td>\n",
       "    </tr>\n",
       "  </tbody>\n",
       "</table>\n"
      ],
      "text/plain": [
       "<pandas.io.formats.style.Styler at 0x2963c6850>"
      ]
     },
     "metadata": {},
     "output_type": "display_data"
    },
    {
     "data": {
      "application/vnd.jupyter.widget-view+json": {
       "model_id": "45fcf38531c54ed6963aee1f7b51050f",
       "version_major": 2,
       "version_minor": 0
      },
      "text/plain": [
       "Processing:   0%|          | 0/17 [00:00<?, ?it/s]"
      ]
     },
     "metadata": {},
     "output_type": "display_data"
    },
    {
     "data": {
      "text/plain": [
       "GaussianNB(priors=None, var_smoothing=1e-09)"
      ]
     },
     "execution_count": 10,
     "metadata": {},
     "output_type": "execute_result"
    }
   ],
   "source": [
    "compare_models(sort = 'F1', include=['nb', 'svm', 'dt'])"
   ]
  },
  {
   "cell_type": "markdown",
   "metadata": {},
   "source": [
    "## SVM "
   ]
  },
  {
   "cell_type": "code",
   "execution_count": 11,
   "metadata": {},
   "outputs": [
    {
     "data": {
      "text/html": [],
      "text/plain": [
       "<IPython.core.display.HTML object>"
      ]
     },
     "metadata": {},
     "output_type": "display_data"
    },
    {
     "data": {
      "text/html": [
       "<style type=\"text/css\">\n",
       "#T_0eb01_row10_col0, #T_0eb01_row10_col1, #T_0eb01_row10_col2, #T_0eb01_row10_col3, #T_0eb01_row10_col4, #T_0eb01_row10_col5, #T_0eb01_row10_col6 {\n",
       "  background: yellow;\n",
       "}\n",
       "</style>\n",
       "<table id=\"T_0eb01\">\n",
       "  <thead>\n",
       "    <tr>\n",
       "      <th class=\"blank level0\" >&nbsp;</th>\n",
       "      <th id=\"T_0eb01_level0_col0\" class=\"col_heading level0 col0\" >Accuracy</th>\n",
       "      <th id=\"T_0eb01_level0_col1\" class=\"col_heading level0 col1\" >AUC</th>\n",
       "      <th id=\"T_0eb01_level0_col2\" class=\"col_heading level0 col2\" >Recall</th>\n",
       "      <th id=\"T_0eb01_level0_col3\" class=\"col_heading level0 col3\" >Prec.</th>\n",
       "      <th id=\"T_0eb01_level0_col4\" class=\"col_heading level0 col4\" >F1</th>\n",
       "      <th id=\"T_0eb01_level0_col5\" class=\"col_heading level0 col5\" >Kappa</th>\n",
       "      <th id=\"T_0eb01_level0_col6\" class=\"col_heading level0 col6\" >MCC</th>\n",
       "    </tr>\n",
       "    <tr>\n",
       "      <th class=\"index_name level0\" >Fold</th>\n",
       "      <th class=\"blank col0\" >&nbsp;</th>\n",
       "      <th class=\"blank col1\" >&nbsp;</th>\n",
       "      <th class=\"blank col2\" >&nbsp;</th>\n",
       "      <th class=\"blank col3\" >&nbsp;</th>\n",
       "      <th class=\"blank col4\" >&nbsp;</th>\n",
       "      <th class=\"blank col5\" >&nbsp;</th>\n",
       "      <th class=\"blank col6\" >&nbsp;</th>\n",
       "    </tr>\n",
       "  </thead>\n",
       "  <tbody>\n",
       "    <tr>\n",
       "      <th id=\"T_0eb01_level0_row0\" class=\"row_heading level0 row0\" >0</th>\n",
       "      <td id=\"T_0eb01_row0_col0\" class=\"data row0 col0\" >0.9352</td>\n",
       "      <td id=\"T_0eb01_row0_col1\" class=\"data row0 col1\" >0.0000</td>\n",
       "      <td id=\"T_0eb01_row0_col2\" class=\"data row0 col2\" >0.9254</td>\n",
       "      <td id=\"T_0eb01_row0_col3\" class=\"data row0 col3\" >0.9935</td>\n",
       "      <td id=\"T_0eb01_row0_col4\" class=\"data row0 col4\" >0.9583</td>\n",
       "      <td id=\"T_0eb01_row0_col5\" class=\"data row0 col5\" >0.8141</td>\n",
       "      <td id=\"T_0eb01_row0_col6\" class=\"data row0 col6\" >0.8245</td>\n",
       "    </tr>\n",
       "    <tr>\n",
       "      <th id=\"T_0eb01_level0_row1\" class=\"row_heading level0 row1\" >1</th>\n",
       "      <td id=\"T_0eb01_row1_col0\" class=\"data row1 col0\" >0.9340</td>\n",
       "      <td id=\"T_0eb01_row1_col1\" class=\"data row1 col1\" >0.0000</td>\n",
       "      <td id=\"T_0eb01_row1_col2\" class=\"data row1 col2\" >0.9239</td>\n",
       "      <td id=\"T_0eb01_row1_col3\" class=\"data row1 col3\" >0.9936</td>\n",
       "      <td id=\"T_0eb01_row1_col4\" class=\"data row1 col4\" >0.9575</td>\n",
       "      <td id=\"T_0eb01_row1_col5\" class=\"data row1 col5\" >0.8111</td>\n",
       "      <td id=\"T_0eb01_row1_col6\" class=\"data row1 col6\" >0.8218</td>\n",
       "    </tr>\n",
       "    <tr>\n",
       "      <th id=\"T_0eb01_level0_row2\" class=\"row_heading level0 row2\" >2</th>\n",
       "      <td id=\"T_0eb01_row2_col0\" class=\"data row2 col0\" >0.9347</td>\n",
       "      <td id=\"T_0eb01_row2_col1\" class=\"data row2 col1\" >0.0000</td>\n",
       "      <td id=\"T_0eb01_row2_col2\" class=\"data row2 col2\" >0.9247</td>\n",
       "      <td id=\"T_0eb01_row2_col3\" class=\"data row2 col3\" >0.9936</td>\n",
       "      <td id=\"T_0eb01_row2_col4\" class=\"data row2 col4\" >0.9579</td>\n",
       "      <td id=\"T_0eb01_row2_col5\" class=\"data row2 col5\" >0.8129</td>\n",
       "      <td id=\"T_0eb01_row2_col6\" class=\"data row2 col6\" >0.8234</td>\n",
       "    </tr>\n",
       "    <tr>\n",
       "      <th id=\"T_0eb01_level0_row3\" class=\"row_heading level0 row3\" >3</th>\n",
       "      <td id=\"T_0eb01_row3_col0\" class=\"data row3 col0\" >0.9352</td>\n",
       "      <td id=\"T_0eb01_row3_col1\" class=\"data row3 col1\" >0.0000</td>\n",
       "      <td id=\"T_0eb01_row3_col2\" class=\"data row3 col2\" >0.9253</td>\n",
       "      <td id=\"T_0eb01_row3_col3\" class=\"data row3 col3\" >0.9936</td>\n",
       "      <td id=\"T_0eb01_row3_col4\" class=\"data row3 col4\" >0.9582</td>\n",
       "      <td id=\"T_0eb01_row3_col5\" class=\"data row3 col5\" >0.8141</td>\n",
       "      <td id=\"T_0eb01_row3_col6\" class=\"data row3 col6\" >0.8245</td>\n",
       "    </tr>\n",
       "    <tr>\n",
       "      <th id=\"T_0eb01_level0_row4\" class=\"row_heading level0 row4\" >4</th>\n",
       "      <td id=\"T_0eb01_row4_col0\" class=\"data row4 col0\" >0.9365</td>\n",
       "      <td id=\"T_0eb01_row4_col1\" class=\"data row4 col1\" >0.0000</td>\n",
       "      <td id=\"T_0eb01_row4_col2\" class=\"data row4 col2\" >0.9270</td>\n",
       "      <td id=\"T_0eb01_row4_col3\" class=\"data row4 col3\" >0.9936</td>\n",
       "      <td id=\"T_0eb01_row4_col4\" class=\"data row4 col4\" >0.9592</td>\n",
       "      <td id=\"T_0eb01_row4_col5\" class=\"data row4 col5\" >0.8176</td>\n",
       "      <td id=\"T_0eb01_row4_col6\" class=\"data row4 col6\" >0.8276</td>\n",
       "    </tr>\n",
       "    <tr>\n",
       "      <th id=\"T_0eb01_level0_row5\" class=\"row_heading level0 row5\" >5</th>\n",
       "      <td id=\"T_0eb01_row5_col0\" class=\"data row5 col0\" >0.9346</td>\n",
       "      <td id=\"T_0eb01_row5_col1\" class=\"data row5 col1\" >0.0000</td>\n",
       "      <td id=\"T_0eb01_row5_col2\" class=\"data row5 col2\" >0.9249</td>\n",
       "      <td id=\"T_0eb01_row5_col3\" class=\"data row5 col3\" >0.9933</td>\n",
       "      <td id=\"T_0eb01_row5_col4\" class=\"data row5 col4\" >0.9579</td>\n",
       "      <td id=\"T_0eb01_row5_col5\" class=\"data row5 col5\" >0.8126</td>\n",
       "      <td id=\"T_0eb01_row5_col6\" class=\"data row5 col6\" >0.8230</td>\n",
       "    </tr>\n",
       "    <tr>\n",
       "      <th id=\"T_0eb01_level0_row6\" class=\"row_heading level0 row6\" >6</th>\n",
       "      <td id=\"T_0eb01_row6_col0\" class=\"data row6 col0\" >0.9359</td>\n",
       "      <td id=\"T_0eb01_row6_col1\" class=\"data row6 col1\" >0.0000</td>\n",
       "      <td id=\"T_0eb01_row6_col2\" class=\"data row6 col2\" >0.9262</td>\n",
       "      <td id=\"T_0eb01_row6_col3\" class=\"data row6 col3\" >0.9936</td>\n",
       "      <td id=\"T_0eb01_row6_col4\" class=\"data row6 col4\" >0.9587</td>\n",
       "      <td id=\"T_0eb01_row6_col5\" class=\"data row6 col5\" >0.8158</td>\n",
       "      <td id=\"T_0eb01_row6_col6\" class=\"data row6 col6\" >0.8261</td>\n",
       "    </tr>\n",
       "    <tr>\n",
       "      <th id=\"T_0eb01_level0_row7\" class=\"row_heading level0 row7\" >7</th>\n",
       "      <td id=\"T_0eb01_row7_col0\" class=\"data row7 col0\" >0.9349</td>\n",
       "      <td id=\"T_0eb01_row7_col1\" class=\"data row7 col1\" >0.0000</td>\n",
       "      <td id=\"T_0eb01_row7_col2\" class=\"data row7 col2\" >0.9248</td>\n",
       "      <td id=\"T_0eb01_row7_col3\" class=\"data row7 col3\" >0.9938</td>\n",
       "      <td id=\"T_0eb01_row7_col4\" class=\"data row7 col4\" >0.9580</td>\n",
       "      <td id=\"T_0eb01_row7_col5\" class=\"data row7 col5\" >0.8134</td>\n",
       "      <td id=\"T_0eb01_row7_col6\" class=\"data row7 col6\" >0.8240</td>\n",
       "    </tr>\n",
       "    <tr>\n",
       "      <th id=\"T_0eb01_level0_row8\" class=\"row_heading level0 row8\" >8</th>\n",
       "      <td id=\"T_0eb01_row8_col0\" class=\"data row8 col0\" >0.9343</td>\n",
       "      <td id=\"T_0eb01_row8_col1\" class=\"data row8 col1\" >0.0000</td>\n",
       "      <td id=\"T_0eb01_row8_col2\" class=\"data row8 col2\" >0.9244</td>\n",
       "      <td id=\"T_0eb01_row8_col3\" class=\"data row8 col3\" >0.9934</td>\n",
       "      <td id=\"T_0eb01_row8_col4\" class=\"data row8 col4\" >0.9577</td>\n",
       "      <td id=\"T_0eb01_row8_col5\" class=\"data row8 col5\" >0.8118</td>\n",
       "      <td id=\"T_0eb01_row8_col6\" class=\"data row8 col6\" >0.8224</td>\n",
       "    </tr>\n",
       "    <tr>\n",
       "      <th id=\"T_0eb01_level0_row9\" class=\"row_heading level0 row9\" >9</th>\n",
       "      <td id=\"T_0eb01_row9_col0\" class=\"data row9 col0\" >0.9325</td>\n",
       "      <td id=\"T_0eb01_row9_col1\" class=\"data row9 col1\" >0.0000</td>\n",
       "      <td id=\"T_0eb01_row9_col2\" class=\"data row9 col2\" >0.9210</td>\n",
       "      <td id=\"T_0eb01_row9_col3\" class=\"data row9 col3\" >0.9946</td>\n",
       "      <td id=\"T_0eb01_row9_col4\" class=\"data row9 col4\" >0.9564</td>\n",
       "      <td id=\"T_0eb01_row9_col5\" class=\"data row9 col5\" >0.8078</td>\n",
       "      <td id=\"T_0eb01_row9_col6\" class=\"data row9 col6\" >0.8197</td>\n",
       "    </tr>\n",
       "    <tr>\n",
       "      <th id=\"T_0eb01_level0_row10\" class=\"row_heading level0 row10\" >Mean</th>\n",
       "      <td id=\"T_0eb01_row10_col0\" class=\"data row10 col0\" >0.9348</td>\n",
       "      <td id=\"T_0eb01_row10_col1\" class=\"data row10 col1\" >0.0000</td>\n",
       "      <td id=\"T_0eb01_row10_col2\" class=\"data row10 col2\" >0.9248</td>\n",
       "      <td id=\"T_0eb01_row10_col3\" class=\"data row10 col3\" >0.9937</td>\n",
       "      <td id=\"T_0eb01_row10_col4\" class=\"data row10 col4\" >0.9580</td>\n",
       "      <td id=\"T_0eb01_row10_col5\" class=\"data row10 col5\" >0.8131</td>\n",
       "      <td id=\"T_0eb01_row10_col6\" class=\"data row10 col6\" >0.8237</td>\n",
       "    </tr>\n",
       "    <tr>\n",
       "      <th id=\"T_0eb01_level0_row11\" class=\"row_heading level0 row11\" >Std</th>\n",
       "      <td id=\"T_0eb01_row11_col0\" class=\"data row11 col0\" >0.0010</td>\n",
       "      <td id=\"T_0eb01_row11_col1\" class=\"data row11 col1\" >0.0000</td>\n",
       "      <td id=\"T_0eb01_row11_col2\" class=\"data row11 col2\" >0.0015</td>\n",
       "      <td id=\"T_0eb01_row11_col3\" class=\"data row11 col3\" >0.0003</td>\n",
       "      <td id=\"T_0eb01_row11_col4\" class=\"data row11 col4\" >0.0007</td>\n",
       "      <td id=\"T_0eb01_row11_col5\" class=\"data row11 col5\" >0.0025</td>\n",
       "      <td id=\"T_0eb01_row11_col6\" class=\"data row11 col6\" >0.0021</td>\n",
       "    </tr>\n",
       "  </tbody>\n",
       "</table>\n"
      ],
      "text/plain": [
       "<pandas.io.formats.style.Styler at 0x296492670>"
      ]
     },
     "metadata": {},
     "output_type": "display_data"
    },
    {
     "data": {
      "application/vnd.jupyter.widget-view+json": {
       "model_id": "14c896bf404345ee9d5822962439eac3",
       "version_major": 2,
       "version_minor": 0
      },
      "text/plain": [
       "Processing:   0%|          | 0/4 [00:00<?, ?it/s]"
      ]
     },
     "metadata": {},
     "output_type": "display_data"
    },
    {
     "name": "stdout",
     "output_type": "stream",
     "text": [
      "      Accuracy  AUC  Recall   Prec.      F1   Kappa     MCC\n",
      "Fold                                                       \n",
      "0       0.9352  0.0  0.9254  0.9935  0.9583  0.8141  0.8245\n",
      "1       0.9340  0.0  0.9239  0.9936  0.9575  0.8111  0.8218\n",
      "2       0.9347  0.0  0.9247  0.9936  0.9579  0.8129  0.8234\n",
      "3       0.9352  0.0  0.9253  0.9936  0.9582  0.8141  0.8245\n",
      "4       0.9365  0.0  0.9270  0.9936  0.9592  0.8176  0.8276\n",
      "5       0.9346  0.0  0.9249  0.9933  0.9579  0.8126  0.8230\n",
      "6       0.9359  0.0  0.9262  0.9936  0.9587  0.8158  0.8261\n",
      "7       0.9349  0.0  0.9248  0.9938  0.9580  0.8134  0.8240\n",
      "8       0.9343  0.0  0.9244  0.9934  0.9577  0.8118  0.8224\n",
      "9       0.9325  0.0  0.9210  0.9946  0.9564  0.8078  0.8197\n",
      "Mean    0.9348  0.0  0.9248  0.9937  0.9580  0.8131  0.8237\n",
      "Std     0.0010  0.0  0.0015  0.0003  0.0007  0.0025  0.0021\n"
     ]
    }
   ],
   "source": [
    "svm = create_model('svm')\n",
    "svm_grid = pull()\n",
    "print(svm_grid)"
   ]
  },
  {
   "cell_type": "code",
   "execution_count": 12,
   "metadata": {},
   "outputs": [
    {
     "data": {
      "text/html": [
       "<style type=\"text/css\">\n",
       "</style>\n",
       "<table id=\"T_69689\">\n",
       "  <thead>\n",
       "    <tr>\n",
       "      <th class=\"blank level0\" >&nbsp;</th>\n",
       "      <th id=\"T_69689_level0_col0\" class=\"col_heading level0 col0\" >Model</th>\n",
       "      <th id=\"T_69689_level0_col1\" class=\"col_heading level0 col1\" >Accuracy</th>\n",
       "      <th id=\"T_69689_level0_col2\" class=\"col_heading level0 col2\" >AUC</th>\n",
       "      <th id=\"T_69689_level0_col3\" class=\"col_heading level0 col3\" >Recall</th>\n",
       "      <th id=\"T_69689_level0_col4\" class=\"col_heading level0 col4\" >Prec.</th>\n",
       "      <th id=\"T_69689_level0_col5\" class=\"col_heading level0 col5\" >F1</th>\n",
       "      <th id=\"T_69689_level0_col6\" class=\"col_heading level0 col6\" >Kappa</th>\n",
       "      <th id=\"T_69689_level0_col7\" class=\"col_heading level0 col7\" >MCC</th>\n",
       "    </tr>\n",
       "  </thead>\n",
       "  <tbody>\n",
       "    <tr>\n",
       "      <th id=\"T_69689_level0_row0\" class=\"row_heading level0 row0\" >0</th>\n",
       "      <td id=\"T_69689_row0_col0\" class=\"data row0 col0\" >SVM - Linear Kernel</td>\n",
       "      <td id=\"T_69689_row0_col1\" class=\"data row0 col1\" >0.9352</td>\n",
       "      <td id=\"T_69689_row0_col2\" class=\"data row0 col2\" >0.9507</td>\n",
       "      <td id=\"T_69689_row0_col3\" class=\"data row0 col3\" >0.9251</td>\n",
       "      <td id=\"T_69689_row0_col4\" class=\"data row0 col4\" >0.9938</td>\n",
       "      <td id=\"T_69689_row0_col5\" class=\"data row0 col5\" >0.9582</td>\n",
       "      <td id=\"T_69689_row0_col6\" class=\"data row0 col6\" >0.8142</td>\n",
       "      <td id=\"T_69689_row0_col7\" class=\"data row0 col7\" >0.8247</td>\n",
       "    </tr>\n",
       "  </tbody>\n",
       "</table>\n"
      ],
      "text/plain": [
       "<pandas.io.formats.style.Styler at 0x296486130>"
      ]
     },
     "metadata": {},
     "output_type": "display_data"
    },
    {
     "data": {
      "text/html": [],
      "text/plain": [
       "<IPython.core.display.HTML object>"
      ]
     },
     "metadata": {},
     "output_type": "display_data"
    },
    {
     "data": {
      "image/png": "[encoded data removed]",
      "text/plain": [
       "<Figure size 432x288 with 1 Axes>"
      ]
     },
     "metadata": {
      "needs_background": "light"
     },
     "output_type": "display_data"
    },
    {
     "data": {
      "text/html": [],
      "text/plain": [
       "<IPython.core.display.HTML object>"
      ]
     },
     "metadata": {},
     "output_type": "display_data"
    },
    {
     "data": {
      "image/png": "[encoded data removed]",
      "text/plain": [
       "<Figure size 432x288 with 2 Axes>"
      ]
     },
     "metadata": {
      "needs_background": "light"
     },
     "output_type": "display_data"
    }
   ],
   "source": [
    "predict_model(svm)\n",
    "plot_model(svm, plot = 'confusion_matrix')\n",
    "plot_model(svm, plot = 'class_report')\n"
   ]
  },
  {
   "cell_type": "markdown",
   "metadata": {},
   "source": [
    "## Decision Trees"
   ]
  },
  {
   "cell_type": "code",
   "execution_count": 13,
   "metadata": {},
   "outputs": [
    {
     "data": {
      "text/html": [],
      "text/plain": [
       "<IPython.core.display.HTML object>"
      ]
     },
     "metadata": {},
     "output_type": "display_data"
    },
    {
     "data": {
      "text/html": [
       "<style type=\"text/css\">\n",
       "#T_33a9c_row10_col0, #T_33a9c_row10_col1, #T_33a9c_row10_col2, #T_33a9c_row10_col3, #T_33a9c_row10_col4, #T_33a9c_row10_col5, #T_33a9c_row10_col6 {\n",
       "  background: yellow;\n",
       "}\n",
       "</style>\n",
       "<table id=\"T_33a9c\">\n",
       "  <thead>\n",
       "    <tr>\n",
       "      <th class=\"blank level0\" >&nbsp;</th>\n",
       "      <th id=\"T_33a9c_level0_col0\" class=\"col_heading level0 col0\" >Accuracy</th>\n",
       "      <th id=\"T_33a9c_level0_col1\" class=\"col_heading level0 col1\" >AUC</th>\n",
       "      <th id=\"T_33a9c_level0_col2\" class=\"col_heading level0 col2\" >Recall</th>\n",
       "      <th id=\"T_33a9c_level0_col3\" class=\"col_heading level0 col3\" >Prec.</th>\n",
       "      <th id=\"T_33a9c_level0_col4\" class=\"col_heading level0 col4\" >F1</th>\n",
       "      <th id=\"T_33a9c_level0_col5\" class=\"col_heading level0 col5\" >Kappa</th>\n",
       "      <th id=\"T_33a9c_level0_col6\" class=\"col_heading level0 col6\" >MCC</th>\n",
       "    </tr>\n",
       "    <tr>\n",
       "      <th class=\"index_name level0\" >Fold</th>\n",
       "      <th class=\"blank col0\" >&nbsp;</th>\n",
       "      <th class=\"blank col1\" >&nbsp;</th>\n",
       "      <th class=\"blank col2\" >&nbsp;</th>\n",
       "      <th class=\"blank col3\" >&nbsp;</th>\n",
       "      <th class=\"blank col4\" >&nbsp;</th>\n",
       "      <th class=\"blank col5\" >&nbsp;</th>\n",
       "      <th class=\"blank col6\" >&nbsp;</th>\n",
       "    </tr>\n",
       "  </thead>\n",
       "  <tbody>\n",
       "    <tr>\n",
       "      <th id=\"T_33a9c_level0_row0\" class=\"row_heading level0 row0\" >0</th>\n",
       "      <td id=\"T_33a9c_row0_col0\" class=\"data row0 col0\" >0.9224</td>\n",
       "      <td id=\"T_33a9c_row0_col1\" class=\"data row0 col1\" >0.8996</td>\n",
       "      <td id=\"T_33a9c_row0_col2\" class=\"data row0 col2\" >0.9371</td>\n",
       "      <td id=\"T_33a9c_row0_col3\" class=\"data row0 col3\" >0.9654</td>\n",
       "      <td id=\"T_33a9c_row0_col4\" class=\"data row0 col4\" >0.9510</td>\n",
       "      <td id=\"T_33a9c_row0_col5\" class=\"data row0 col5\" >0.7644</td>\n",
       "      <td id=\"T_33a9c_row0_col6\" class=\"data row0 col6\" >0.7664</td>\n",
       "    </tr>\n",
       "    <tr>\n",
       "      <th id=\"T_33a9c_level0_row1\" class=\"row_heading level0 row1\" >1</th>\n",
       "      <td id=\"T_33a9c_row1_col0\" class=\"data row1 col0\" >0.9209</td>\n",
       "      <td id=\"T_33a9c_row1_col1\" class=\"data row1 col1\" >0.8980</td>\n",
       "      <td id=\"T_33a9c_row1_col2\" class=\"data row1 col2\" >0.9357</td>\n",
       "      <td id=\"T_33a9c_row1_col3\" class=\"data row1 col3\" >0.9649</td>\n",
       "      <td id=\"T_33a9c_row1_col4\" class=\"data row1 col4\" >0.9501</td>\n",
       "      <td id=\"T_33a9c_row1_col5\" class=\"data row1 col5\" >0.7603</td>\n",
       "      <td id=\"T_33a9c_row1_col6\" class=\"data row1 col6\" >0.7623</td>\n",
       "    </tr>\n",
       "    <tr>\n",
       "      <th id=\"T_33a9c_level0_row2\" class=\"row_heading level0 row2\" >2</th>\n",
       "      <td id=\"T_33a9c_row2_col0\" class=\"data row2 col0\" >0.9064</td>\n",
       "      <td id=\"T_33a9c_row2_col1\" class=\"data row2 col1\" >0.8894</td>\n",
       "      <td id=\"T_33a9c_row2_col2\" class=\"data row2 col2\" >0.9173</td>\n",
       "      <td id=\"T_33a9c_row2_col3\" class=\"data row2 col3\" >0.9645</td>\n",
       "      <td id=\"T_33a9c_row2_col4\" class=\"data row2 col4\" >0.9403</td>\n",
       "      <td id=\"T_33a9c_row2_col5\" class=\"data row2 col5\" >0.7238</td>\n",
       "      <td id=\"T_33a9c_row2_col6\" class=\"data row2 col6\" >0.7288</td>\n",
       "    </tr>\n",
       "    <tr>\n",
       "      <th id=\"T_33a9c_level0_row3\" class=\"row_heading level0 row3\" >3</th>\n",
       "      <td id=\"T_33a9c_row3_col0\" class=\"data row3 col0\" >0.9442</td>\n",
       "      <td id=\"T_33a9c_row3_col1\" class=\"data row3 col1\" >0.9553</td>\n",
       "      <td id=\"T_33a9c_row3_col2\" class=\"data row3 col2\" >0.9370</td>\n",
       "      <td id=\"T_33a9c_row3_col3\" class=\"data row3 col3\" >0.9932</td>\n",
       "      <td id=\"T_33a9c_row3_col4\" class=\"data row3 col4\" >0.9643</td>\n",
       "      <td id=\"T_33a9c_row3_col5\" class=\"data row3 col5\" >0.8372</td>\n",
       "      <td id=\"T_33a9c_row3_col6\" class=\"data row3 col6\" >0.8446</td>\n",
       "    </tr>\n",
       "    <tr>\n",
       "      <th id=\"T_33a9c_level0_row4\" class=\"row_heading level0 row4\" >4</th>\n",
       "      <td id=\"T_33a9c_row4_col0\" class=\"data row4 col0\" >0.9148</td>\n",
       "      <td id=\"T_33a9c_row4_col1\" class=\"data row4 col1\" >0.8952</td>\n",
       "      <td id=\"T_33a9c_row4_col2\" class=\"data row4 col2\" >0.9274</td>\n",
       "      <td id=\"T_33a9c_row4_col3\" class=\"data row4 col3\" >0.9652</td>\n",
       "      <td id=\"T_33a9c_row4_col4\" class=\"data row4 col4\" >0.9459</td>\n",
       "      <td id=\"T_33a9c_row4_col5\" class=\"data row4 col5\" >0.7450</td>\n",
       "      <td id=\"T_33a9c_row4_col6\" class=\"data row4 col6\" >0.7483</td>\n",
       "    </tr>\n",
       "    <tr>\n",
       "      <th id=\"T_33a9c_level0_row5\" class=\"row_heading level0 row5\" >5</th>\n",
       "      <td id=\"T_33a9c_row5_col0\" class=\"data row5 col0\" >0.9073</td>\n",
       "      <td id=\"T_33a9c_row5_col1\" class=\"data row5 col1\" >0.8936</td>\n",
       "      <td id=\"T_33a9c_row5_col2\" class=\"data row5 col2\" >0.9161</td>\n",
       "      <td id=\"T_33a9c_row5_col3\" class=\"data row5 col3\" >0.9669</td>\n",
       "      <td id=\"T_33a9c_row5_col4\" class=\"data row5 col4\" >0.9408</td>\n",
       "      <td id=\"T_33a9c_row5_col5\" class=\"data row5 col5\" >0.7279</td>\n",
       "      <td id=\"T_33a9c_row5_col6\" class=\"data row5 col6\" >0.7336</td>\n",
       "    </tr>\n",
       "    <tr>\n",
       "      <th id=\"T_33a9c_level0_row6\" class=\"row_heading level0 row6\" >6</th>\n",
       "      <td id=\"T_33a9c_row6_col0\" class=\"data row6 col0\" >0.9235</td>\n",
       "      <td id=\"T_33a9c_row6_col1\" class=\"data row6 col1\" >0.9010</td>\n",
       "      <td id=\"T_33a9c_row6_col2\" class=\"data row6 col2\" >0.9381</td>\n",
       "      <td id=\"T_33a9c_row6_col3\" class=\"data row6 col3\" >0.9658</td>\n",
       "      <td id=\"T_33a9c_row6_col4\" class=\"data row6 col4\" >0.9518</td>\n",
       "      <td id=\"T_33a9c_row6_col5\" class=\"data row6 col5\" >0.7677</td>\n",
       "      <td id=\"T_33a9c_row6_col6\" class=\"data row6 col6\" >0.7696</td>\n",
       "    </tr>\n",
       "    <tr>\n",
       "      <th id=\"T_33a9c_level0_row7\" class=\"row_heading level0 row7\" >7</th>\n",
       "      <td id=\"T_33a9c_row7_col0\" class=\"data row7 col0\" >0.9049</td>\n",
       "      <td id=\"T_33a9c_row7_col1\" class=\"data row7 col1\" >0.8870</td>\n",
       "      <td id=\"T_33a9c_row7_col2\" class=\"data row7 col2\" >0.9165</td>\n",
       "      <td id=\"T_33a9c_row7_col3\" class=\"data row7 col3\" >0.9635</td>\n",
       "      <td id=\"T_33a9c_row7_col4\" class=\"data row7 col4\" >0.9394</td>\n",
       "      <td id=\"T_33a9c_row7_col5\" class=\"data row7 col5\" >0.7195</td>\n",
       "      <td id=\"T_33a9c_row7_col6\" class=\"data row7 col6\" >0.7244</td>\n",
       "    </tr>\n",
       "    <tr>\n",
       "      <th id=\"T_33a9c_level0_row8\" class=\"row_heading level0 row8\" >8</th>\n",
       "      <td id=\"T_33a9c_row8_col0\" class=\"data row8 col0\" >0.9236</td>\n",
       "      <td id=\"T_33a9c_row8_col1\" class=\"data row8 col1\" >0.9025</td>\n",
       "      <td id=\"T_33a9c_row8_col2\" class=\"data row8 col2\" >0.9372</td>\n",
       "      <td id=\"T_33a9c_row8_col3\" class=\"data row8 col3\" >0.9668</td>\n",
       "      <td id=\"T_33a9c_row8_col4\" class=\"data row8 col4\" >0.9517</td>\n",
       "      <td id=\"T_33a9c_row8_col5\" class=\"data row8 col5\" >0.7685</td>\n",
       "      <td id=\"T_33a9c_row8_col6\" class=\"data row8 col6\" >0.7707</td>\n",
       "    </tr>\n",
       "    <tr>\n",
       "      <th id=\"T_33a9c_level0_row9\" class=\"row_heading level0 row9\" >9</th>\n",
       "      <td id=\"T_33a9c_row9_col0\" class=\"data row9 col0\" >0.9234</td>\n",
       "      <td id=\"T_33a9c_row9_col1\" class=\"data row9 col1\" >0.9028</td>\n",
       "      <td id=\"T_33a9c_row9_col2\" class=\"data row9 col2\" >0.9368</td>\n",
       "      <td id=\"T_33a9c_row9_col3\" class=\"data row9 col3\" >0.9670</td>\n",
       "      <td id=\"T_33a9c_row9_col4\" class=\"data row9 col4\" >0.9516</td>\n",
       "      <td id=\"T_33a9c_row9_col5\" class=\"data row9 col5\" >0.7683</td>\n",
       "      <td id=\"T_33a9c_row9_col6\" class=\"data row9 col6\" >0.7705</td>\n",
       "    </tr>\n",
       "    <tr>\n",
       "      <th id=\"T_33a9c_level0_row10\" class=\"row_heading level0 row10\" >Mean</th>\n",
       "      <td id=\"T_33a9c_row10_col0\" class=\"data row10 col0\" >0.9191</td>\n",
       "      <td id=\"T_33a9c_row10_col1\" class=\"data row10 col1\" >0.9024</td>\n",
       "      <td id=\"T_33a9c_row10_col2\" class=\"data row10 col2\" >0.9299</td>\n",
       "      <td id=\"T_33a9c_row10_col3\" class=\"data row10 col3\" >0.9683</td>\n",
       "      <td id=\"T_33a9c_row10_col4\" class=\"data row10 col4\" >0.9487</td>\n",
       "      <td id=\"T_33a9c_row10_col5\" class=\"data row10 col5\" >0.7583</td>\n",
       "      <td id=\"T_33a9c_row10_col6\" class=\"data row10 col6\" >0.7619</td>\n",
       "    </tr>\n",
       "    <tr>\n",
       "      <th id=\"T_33a9c_level0_row11\" class=\"row_heading level0 row11\" >Std</th>\n",
       "      <td id=\"T_33a9c_row11_col0\" class=\"data row11 col0\" >0.0111</td>\n",
       "      <td id=\"T_33a9c_row11_col1\" class=\"data row11 col1\" >0.0183</td>\n",
       "      <td id=\"T_33a9c_row11_col2\" class=\"data row11 col2\" >0.0092</td>\n",
       "      <td id=\"T_33a9c_row11_col3\" class=\"data row11 col3\" >0.0084</td>\n",
       "      <td id=\"T_33a9c_row11_col4\" class=\"data row11 col4\" >0.0071</td>\n",
       "      <td id=\"T_33a9c_row11_col5\" class=\"data row11 col5\" >0.0322</td>\n",
       "      <td id=\"T_33a9c_row11_col6\" class=\"data row11 col6\" >0.0325</td>\n",
       "    </tr>\n",
       "  </tbody>\n",
       "</table>\n"
      ],
      "text/plain": [
       "<pandas.io.formats.style.Styler at 0x175121f40>"
      ]
     },
     "metadata": {},
     "output_type": "display_data"
    },
    {
     "data": {
      "application/vnd.jupyter.widget-view+json": {
       "model_id": "0b0fa4791d0a4446ba52a0b0a32a5160",
       "version_major": 2,
       "version_minor": 0
      },
      "text/plain": [
       "Processing:   0%|          | 0/4 [00:00<?, ?it/s]"
      ]
     },
     "metadata": {},
     "output_type": "display_data"
    },
    {
     "name": "stdout",
     "output_type": "stream",
     "text": [
      "      Accuracy     AUC  Recall   Prec.      F1   Kappa     MCC\n",
      "Fold                                                          \n",
      "0       0.9224  0.8996  0.9371  0.9654  0.9510  0.7644  0.7664\n",
      "1       0.9209  0.8980  0.9357  0.9649  0.9501  0.7603  0.7623\n",
      "2       0.9064  0.8894  0.9173  0.9645  0.9403  0.7238  0.7288\n",
      "3       0.9442  0.9553  0.9370  0.9932  0.9643  0.8372  0.8446\n",
      "4       0.9148  0.8952  0.9274  0.9652  0.9459  0.7450  0.7483\n",
      "5       0.9073  0.8936  0.9161  0.9669  0.9408  0.7279  0.7336\n",
      "6       0.9235  0.9010  0.9381  0.9658  0.9518  0.7677  0.7696\n",
      "7       0.9049  0.8870  0.9165  0.9635  0.9394  0.7195  0.7244\n",
      "8       0.9236  0.9025  0.9372  0.9668  0.9517  0.7685  0.7707\n",
      "9       0.9234  0.9028  0.9368  0.9670  0.9516  0.7683  0.7705\n",
      "Mean    0.9191  0.9024  0.9299  0.9683  0.9487  0.7583  0.7619\n",
      "Std     0.0111  0.0183  0.0092  0.0084  0.0071  0.0322  0.0325\n"
     ]
    }
   ],
   "source": [
    "dt = create_model('dt') \n",
    "dt_grid = pull()\n",
    "print(dt_grid)"
   ]
  },
  {
   "cell_type": "code",
   "execution_count": 14,
   "metadata": {},
   "outputs": [
    {
     "data": {
      "text/html": [
       "<style type=\"text/css\">\n",
       "</style>\n",
       "<table id=\"T_5f33b\">\n",
       "  <thead>\n",
       "    <tr>\n",
       "      <th class=\"blank level0\" >&nbsp;</th>\n",
       "      <th id=\"T_5f33b_level0_col0\" class=\"col_heading level0 col0\" >Model</th>\n",
       "      <th id=\"T_5f33b_level0_col1\" class=\"col_heading level0 col1\" >Accuracy</th>\n",
       "      <th id=\"T_5f33b_level0_col2\" class=\"col_heading level0 col2\" >AUC</th>\n",
       "      <th id=\"T_5f33b_level0_col3\" class=\"col_heading level0 col3\" >Recall</th>\n",
       "      <th id=\"T_5f33b_level0_col4\" class=\"col_heading level0 col4\" >Prec.</th>\n",
       "      <th id=\"T_5f33b_level0_col5\" class=\"col_heading level0 col5\" >F1</th>\n",
       "      <th id=\"T_5f33b_level0_col6\" class=\"col_heading level0 col6\" >Kappa</th>\n",
       "      <th id=\"T_5f33b_level0_col7\" class=\"col_heading level0 col7\" >MCC</th>\n",
       "    </tr>\n",
       "  </thead>\n",
       "  <tbody>\n",
       "    <tr>\n",
       "      <th id=\"T_5f33b_level0_row0\" class=\"row_heading level0 row0\" >0</th>\n",
       "      <td id=\"T_5f33b_row0_col0\" class=\"data row0 col0\" >Decision Tree Classifier</td>\n",
       "      <td id=\"T_5f33b_row0_col1\" class=\"data row0 col1\" >1.0000</td>\n",
       "      <td id=\"T_5f33b_row0_col2\" class=\"data row0 col2\" >1.0000</td>\n",
       "      <td id=\"T_5f33b_row0_col3\" class=\"data row0 col3\" >1.0000</td>\n",
       "      <td id=\"T_5f33b_row0_col4\" class=\"data row0 col4\" >1.0000</td>\n",
       "      <td id=\"T_5f33b_row0_col5\" class=\"data row0 col5\" >1.0000</td>\n",
       "      <td id=\"T_5f33b_row0_col6\" class=\"data row0 col6\" >0.9999</td>\n",
       "      <td id=\"T_5f33b_row0_col7\" class=\"data row0 col7\" >0.9999</td>\n",
       "    </tr>\n",
       "  </tbody>\n",
       "</table>\n"
      ],
      "text/plain": [
       "<pandas.io.formats.style.Styler at 0x296f5c3a0>"
      ]
     },
     "metadata": {},
     "output_type": "display_data"
    },
    {
     "data": {
      "text/html": [],
      "text/plain": [
       "<IPython.core.display.HTML object>"
      ]
     },
     "metadata": {},
     "output_type": "display_data"
    },
    {
     "data": {
      "image/png": "[encoded data removed]",
      "text/plain": [
       "<Figure size 432x288 with 1 Axes>"
      ]
     },
     "metadata": {
      "needs_background": "light"
     },
     "output_type": "display_data"
    },
    {
     "data": {
      "text/html": [],
      "text/plain": [
       "<IPython.core.display.HTML object>"
      ]
     },
     "metadata": {},
     "output_type": "display_data"
    },
    {
     "data": {
      "image/png": "[encoded data removed]",
      "text/plain": [
       "<Figure size 432x288 with 2 Axes>"
      ]
     },
     "metadata": {
      "needs_background": "light"
     },
     "output_type": "display_data"
    }
   ],
   "source": [
    "predict_model(dt)\n",
    "plot_model(dt, plot = 'confusion_matrix')\n",
    "plot_model(dt, plot = 'class_report')"
   ]
  },
  {
   "cell_type": "markdown",
   "metadata": {},
   "source": [
    "## Naive Bayes"
   ]
  },
  {
   "cell_type": "code",
   "execution_count": 15,
   "metadata": {},
   "outputs": [
    {
     "data": {
      "text/html": [],
      "text/plain": [
       "<IPython.core.display.HTML object>"
      ]
     },
     "metadata": {},
     "output_type": "display_data"
    },
    {
     "data": {
      "text/html": [
       "<style type=\"text/css\">\n",
       "#T_c2d32_row10_col0, #T_c2d32_row10_col1, #T_c2d32_row10_col2, #T_c2d32_row10_col3, #T_c2d32_row10_col4, #T_c2d32_row10_col5, #T_c2d32_row10_col6 {\n",
       "  background: yellow;\n",
       "}\n",
       "</style>\n",
       "<table id=\"T_c2d32\">\n",
       "  <thead>\n",
       "    <tr>\n",
       "      <th class=\"blank level0\" >&nbsp;</th>\n",
       "      <th id=\"T_c2d32_level0_col0\" class=\"col_heading level0 col0\" >Accuracy</th>\n",
       "      <th id=\"T_c2d32_level0_col1\" class=\"col_heading level0 col1\" >AUC</th>\n",
       "      <th id=\"T_c2d32_level0_col2\" class=\"col_heading level0 col2\" >Recall</th>\n",
       "      <th id=\"T_c2d32_level0_col3\" class=\"col_heading level0 col3\" >Prec.</th>\n",
       "      <th id=\"T_c2d32_level0_col4\" class=\"col_heading level0 col4\" >F1</th>\n",
       "      <th id=\"T_c2d32_level0_col5\" class=\"col_heading level0 col5\" >Kappa</th>\n",
       "      <th id=\"T_c2d32_level0_col6\" class=\"col_heading level0 col6\" >MCC</th>\n",
       "    </tr>\n",
       "    <tr>\n",
       "      <th class=\"index_name level0\" >Fold</th>\n",
       "      <th class=\"blank col0\" >&nbsp;</th>\n",
       "      <th class=\"blank col1\" >&nbsp;</th>\n",
       "      <th class=\"blank col2\" >&nbsp;</th>\n",
       "      <th class=\"blank col3\" >&nbsp;</th>\n",
       "      <th class=\"blank col4\" >&nbsp;</th>\n",
       "      <th class=\"blank col5\" >&nbsp;</th>\n",
       "      <th class=\"blank col6\" >&nbsp;</th>\n",
       "    </tr>\n",
       "  </thead>\n",
       "  <tbody>\n",
       "    <tr>\n",
       "      <th id=\"T_c2d32_level0_row0\" class=\"row_heading level0 row0\" >0</th>\n",
       "      <td id=\"T_c2d32_row0_col0\" class=\"data row0 col0\" >0.9665</td>\n",
       "      <td id=\"T_c2d32_row0_col1\" class=\"data row0 col1\" >0.9836</td>\n",
       "      <td id=\"T_c2d32_row0_col2\" class=\"data row0 col2\" >0.9859</td>\n",
       "      <td id=\"T_c2d32_row0_col3\" class=\"data row0 col3\" >0.9728</td>\n",
       "      <td id=\"T_c2d32_row0_col4\" class=\"data row0 col4\" >0.9793</td>\n",
       "      <td id=\"T_c2d32_row0_col5\" class=\"data row0 col5\" >0.8914</td>\n",
       "      <td id=\"T_c2d32_row0_col6\" class=\"data row0 col6\" >0.8920</td>\n",
       "    </tr>\n",
       "    <tr>\n",
       "      <th id=\"T_c2d32_level0_row1\" class=\"row_heading level0 row1\" >1</th>\n",
       "      <td id=\"T_c2d32_row1_col0\" class=\"data row1 col0\" >0.9674</td>\n",
       "      <td id=\"T_c2d32_row1_col1\" class=\"data row1 col1\" >0.9837</td>\n",
       "      <td id=\"T_c2d32_row1_col2\" class=\"data row1 col2\" >0.9859</td>\n",
       "      <td id=\"T_c2d32_row1_col3\" class=\"data row1 col3\" >0.9739</td>\n",
       "      <td id=\"T_c2d32_row1_col4\" class=\"data row1 col4\" >0.9799</td>\n",
       "      <td id=\"T_c2d32_row1_col5\" class=\"data row1 col5\" >0.8946</td>\n",
       "      <td id=\"T_c2d32_row1_col6\" class=\"data row1 col6\" >0.8950</td>\n",
       "    </tr>\n",
       "    <tr>\n",
       "      <th id=\"T_c2d32_level0_row2\" class=\"row_heading level0 row2\" >2</th>\n",
       "      <td id=\"T_c2d32_row2_col0\" class=\"data row2 col0\" >0.9657</td>\n",
       "      <td id=\"T_c2d32_row2_col1\" class=\"data row2 col1\" >0.9839</td>\n",
       "      <td id=\"T_c2d32_row2_col2\" class=\"data row2 col2\" >0.9851</td>\n",
       "      <td id=\"T_c2d32_row2_col3\" class=\"data row2 col3\" >0.9726</td>\n",
       "      <td id=\"T_c2d32_row2_col4\" class=\"data row2 col4\" >0.9788</td>\n",
       "      <td id=\"T_c2d32_row2_col5\" class=\"data row2 col5\" >0.8888</td>\n",
       "      <td id=\"T_c2d32_row2_col6\" class=\"data row2 col6\" >0.8893</td>\n",
       "    </tr>\n",
       "    <tr>\n",
       "      <th id=\"T_c2d32_level0_row3\" class=\"row_heading level0 row3\" >3</th>\n",
       "      <td id=\"T_c2d32_row3_col0\" class=\"data row3 col0\" >0.9675</td>\n",
       "      <td id=\"T_c2d32_row3_col1\" class=\"data row3 col1\" >0.9839</td>\n",
       "      <td id=\"T_c2d32_row3_col2\" class=\"data row3 col2\" >0.9856</td>\n",
       "      <td id=\"T_c2d32_row3_col3\" class=\"data row3 col3\" >0.9743</td>\n",
       "      <td id=\"T_c2d32_row3_col4\" class=\"data row3 col4\" >0.9799</td>\n",
       "      <td id=\"T_c2d32_row3_col5\" class=\"data row3 col5\" >0.8950</td>\n",
       "      <td id=\"T_c2d32_row3_col6\" class=\"data row3 col6\" >0.8954</td>\n",
       "    </tr>\n",
       "    <tr>\n",
       "      <th id=\"T_c2d32_level0_row4\" class=\"row_heading level0 row4\" >4</th>\n",
       "      <td id=\"T_c2d32_row4_col0\" class=\"data row4 col0\" >0.9676</td>\n",
       "      <td id=\"T_c2d32_row4_col1\" class=\"data row4 col1\" >0.9848</td>\n",
       "      <td id=\"T_c2d32_row4_col2\" class=\"data row4 col2\" >0.9868</td>\n",
       "      <td id=\"T_c2d32_row4_col3\" class=\"data row4 col3\" >0.9733</td>\n",
       "      <td id=\"T_c2d32_row4_col4\" class=\"data row4 col4\" >0.9800</td>\n",
       "      <td id=\"T_c2d32_row4_col5\" class=\"data row4 col5\" >0.8949</td>\n",
       "      <td id=\"T_c2d32_row4_col6\" class=\"data row4 col6\" >0.8954</td>\n",
       "    </tr>\n",
       "    <tr>\n",
       "      <th id=\"T_c2d32_level0_row5\" class=\"row_heading level0 row5\" >5</th>\n",
       "      <td id=\"T_c2d32_row5_col0\" class=\"data row5 col0\" >0.9670</td>\n",
       "      <td id=\"T_c2d32_row5_col1\" class=\"data row5 col1\" >0.9838</td>\n",
       "      <td id=\"T_c2d32_row5_col2\" class=\"data row5 col2\" >0.9859</td>\n",
       "      <td id=\"T_c2d32_row5_col3\" class=\"data row5 col3\" >0.9734</td>\n",
       "      <td id=\"T_c2d32_row5_col4\" class=\"data row5 col4\" >0.9796</td>\n",
       "      <td id=\"T_c2d32_row5_col5\" class=\"data row5 col5\" >0.8930</td>\n",
       "      <td id=\"T_c2d32_row5_col6\" class=\"data row5 col6\" >0.8935</td>\n",
       "    </tr>\n",
       "    <tr>\n",
       "      <th id=\"T_c2d32_level0_row6\" class=\"row_heading level0 row6\" >6</th>\n",
       "      <td id=\"T_c2d32_row6_col0\" class=\"data row6 col0\" >0.9674</td>\n",
       "      <td id=\"T_c2d32_row6_col1\" class=\"data row6 col1\" >0.9843</td>\n",
       "      <td id=\"T_c2d32_row6_col2\" class=\"data row6 col2\" >0.9859</td>\n",
       "      <td id=\"T_c2d32_row6_col3\" class=\"data row6 col3\" >0.9739</td>\n",
       "      <td id=\"T_c2d32_row6_col4\" class=\"data row6 col4\" >0.9799</td>\n",
       "      <td id=\"T_c2d32_row6_col5\" class=\"data row6 col5\" >0.8946</td>\n",
       "      <td id=\"T_c2d32_row6_col6\" class=\"data row6 col6\" >0.8951</td>\n",
       "    </tr>\n",
       "    <tr>\n",
       "      <th id=\"T_c2d32_level0_row7\" class=\"row_heading level0 row7\" >7</th>\n",
       "      <td id=\"T_c2d32_row7_col0\" class=\"data row7 col0\" >0.9672</td>\n",
       "      <td id=\"T_c2d32_row7_col1\" class=\"data row7 col1\" >0.9833</td>\n",
       "      <td id=\"T_c2d32_row7_col2\" class=\"data row7 col2\" >0.9861</td>\n",
       "      <td id=\"T_c2d32_row7_col3\" class=\"data row7 col3\" >0.9734</td>\n",
       "      <td id=\"T_c2d32_row7_col4\" class=\"data row7 col4\" >0.9797</td>\n",
       "      <td id=\"T_c2d32_row7_col5\" class=\"data row7 col5\" >0.8938</td>\n",
       "      <td id=\"T_c2d32_row7_col6\" class=\"data row7 col6\" >0.8943</td>\n",
       "    </tr>\n",
       "    <tr>\n",
       "      <th id=\"T_c2d32_level0_row8\" class=\"row_heading level0 row8\" >8</th>\n",
       "      <td id=\"T_c2d32_row8_col0\" class=\"data row8 col0\" >0.9670</td>\n",
       "      <td id=\"T_c2d32_row8_col1\" class=\"data row8 col1\" >0.9834</td>\n",
       "      <td id=\"T_c2d32_row8_col2\" class=\"data row8 col2\" >0.9863</td>\n",
       "      <td id=\"T_c2d32_row8_col3\" class=\"data row8 col3\" >0.9730</td>\n",
       "      <td id=\"T_c2d32_row8_col4\" class=\"data row8 col4\" >0.9796</td>\n",
       "      <td id=\"T_c2d32_row8_col5\" class=\"data row8 col5\" >0.8932</td>\n",
       "      <td id=\"T_c2d32_row8_col6\" class=\"data row8 col6\" >0.8937</td>\n",
       "    </tr>\n",
       "    <tr>\n",
       "      <th id=\"T_c2d32_level0_row9\" class=\"row_heading level0 row9\" >9</th>\n",
       "      <td id=\"T_c2d32_row9_col0\" class=\"data row9 col0\" >0.9665</td>\n",
       "      <td id=\"T_c2d32_row9_col1\" class=\"data row9 col1\" >0.9836</td>\n",
       "      <td id=\"T_c2d32_row9_col2\" class=\"data row9 col2\" >0.9855</td>\n",
       "      <td id=\"T_c2d32_row9_col3\" class=\"data row9 col3\" >0.9731</td>\n",
       "      <td id=\"T_c2d32_row9_col4\" class=\"data row9 col4\" >0.9793</td>\n",
       "      <td id=\"T_c2d32_row9_col5\" class=\"data row9 col5\" >0.8915</td>\n",
       "      <td id=\"T_c2d32_row9_col6\" class=\"data row9 col6\" >0.8919</td>\n",
       "    </tr>\n",
       "    <tr>\n",
       "      <th id=\"T_c2d32_level0_row10\" class=\"row_heading level0 row10\" >Mean</th>\n",
       "      <td id=\"T_c2d32_row10_col0\" class=\"data row10 col0\" >0.9670</td>\n",
       "      <td id=\"T_c2d32_row10_col1\" class=\"data row10 col1\" >0.9838</td>\n",
       "      <td id=\"T_c2d32_row10_col2\" class=\"data row10 col2\" >0.9859</td>\n",
       "      <td id=\"T_c2d32_row10_col3\" class=\"data row10 col3\" >0.9734</td>\n",
       "      <td id=\"T_c2d32_row10_col4\" class=\"data row10 col4\" >0.9796</td>\n",
       "      <td id=\"T_c2d32_row10_col5\" class=\"data row10 col5\" >0.8931</td>\n",
       "      <td id=\"T_c2d32_row10_col6\" class=\"data row10 col6\" >0.8936</td>\n",
       "    </tr>\n",
       "    <tr>\n",
       "      <th id=\"T_c2d32_level0_row11\" class=\"row_heading level0 row11\" >Std</th>\n",
       "      <td id=\"T_c2d32_row11_col0\" class=\"data row11 col0\" >0.0006</td>\n",
       "      <td id=\"T_c2d32_row11_col1\" class=\"data row11 col1\" >0.0004</td>\n",
       "      <td id=\"T_c2d32_row11_col2\" class=\"data row11 col2\" >0.0004</td>\n",
       "      <td id=\"T_c2d32_row11_col3\" class=\"data row11 col3\" >0.0005</td>\n",
       "      <td id=\"T_c2d32_row11_col4\" class=\"data row11 col4\" >0.0004</td>\n",
       "      <td id=\"T_c2d32_row11_col5\" class=\"data row11 col5\" >0.0019</td>\n",
       "      <td id=\"T_c2d32_row11_col6\" class=\"data row11 col6\" >0.0019</td>\n",
       "    </tr>\n",
       "  </tbody>\n",
       "</table>\n"
      ],
      "text/plain": [
       "<pandas.io.formats.style.Styler at 0x1750d4fd0>"
      ]
     },
     "metadata": {},
     "output_type": "display_data"
    },
    {
     "data": {
      "application/vnd.jupyter.widget-view+json": {
       "model_id": "ba2f0ec9b1b8490e95ed86bc45e5eeb7",
       "version_major": 2,
       "version_minor": 0
      },
      "text/plain": [
       "Processing:   0%|          | 0/4 [00:00<?, ?it/s]"
      ]
     },
     "metadata": {},
     "output_type": "display_data"
    },
    {
     "name": "stdout",
     "output_type": "stream",
     "text": [
      "      Accuracy     AUC  Recall   Prec.      F1   Kappa     MCC\n",
      "Fold                                                          \n",
      "0       0.9665  0.9836  0.9859  0.9728  0.9793  0.8914  0.8920\n",
      "1       0.9674  0.9837  0.9859  0.9739  0.9799  0.8946  0.8950\n",
      "2       0.9657  0.9839  0.9851  0.9726  0.9788  0.8888  0.8893\n",
      "3       0.9675  0.9839  0.9856  0.9743  0.9799  0.8950  0.8954\n",
      "4       0.9676  0.9848  0.9868  0.9733  0.9800  0.8949  0.8954\n",
      "5       0.9670  0.9838  0.9859  0.9734  0.9796  0.8930  0.8935\n",
      "6       0.9674  0.9843  0.9859  0.9739  0.9799  0.8946  0.8951\n",
      "7       0.9672  0.9833  0.9861  0.9734  0.9797  0.8938  0.8943\n",
      "8       0.9670  0.9834  0.9863  0.9730  0.9796  0.8932  0.8937\n",
      "9       0.9665  0.9836  0.9855  0.9731  0.9793  0.8915  0.8919\n",
      "Mean    0.9670  0.9838  0.9859  0.9734  0.9796  0.8931  0.8936\n",
      "Std     0.0006  0.0004  0.0004  0.0005  0.0004  0.0019  0.0019\n"
     ]
    }
   ],
   "source": [
    "nb = create_model('nb')\n",
    "nb_grid = pull()\n",
    "print(nb_grid)"
   ]
  },
  {
   "cell_type": "code",
   "execution_count": 16,
   "metadata": {},
   "outputs": [
    {
     "data": {
      "text/html": [
       "<style type=\"text/css\">\n",
       "</style>\n",
       "<table id=\"T_6e246\">\n",
       "  <thead>\n",
       "    <tr>\n",
       "      <th class=\"blank level0\" >&nbsp;</th>\n",
       "      <th id=\"T_6e246_level0_col0\" class=\"col_heading level0 col0\" >Model</th>\n",
       "      <th id=\"T_6e246_level0_col1\" class=\"col_heading level0 col1\" >Accuracy</th>\n",
       "      <th id=\"T_6e246_level0_col2\" class=\"col_heading level0 col2\" >AUC</th>\n",
       "      <th id=\"T_6e246_level0_col3\" class=\"col_heading level0 col3\" >Recall</th>\n",
       "      <th id=\"T_6e246_level0_col4\" class=\"col_heading level0 col4\" >Prec.</th>\n",
       "      <th id=\"T_6e246_level0_col5\" class=\"col_heading level0 col5\" >F1</th>\n",
       "      <th id=\"T_6e246_level0_col6\" class=\"col_heading level0 col6\" >Kappa</th>\n",
       "      <th id=\"T_6e246_level0_col7\" class=\"col_heading level0 col7\" >MCC</th>\n",
       "    </tr>\n",
       "  </thead>\n",
       "  <tbody>\n",
       "    <tr>\n",
       "      <th id=\"T_6e246_level0_row0\" class=\"row_heading level0 row0\" >0</th>\n",
       "      <td id=\"T_6e246_row0_col0\" class=\"data row0 col0\" >Naive Bayes</td>\n",
       "      <td id=\"T_6e246_row0_col1\" class=\"data row0 col1\" >0.9671</td>\n",
       "      <td id=\"T_6e246_row0_col2\" class=\"data row0 col2\" >0.9832</td>\n",
       "      <td id=\"T_6e246_row0_col3\" class=\"data row0 col3\" >0.9858</td>\n",
       "      <td id=\"T_6e246_row0_col4\" class=\"data row0 col4\" >0.9736</td>\n",
       "      <td id=\"T_6e246_row0_col5\" class=\"data row0 col5\" >0.9797</td>\n",
       "      <td id=\"T_6e246_row0_col6\" class=\"data row0 col6\" >0.8936</td>\n",
       "      <td id=\"T_6e246_row0_col7\" class=\"data row0 col7\" >0.8940</td>\n",
       "    </tr>\n",
       "  </tbody>\n",
       "</table>\n"
      ],
      "text/plain": [
       "<pandas.io.formats.style.Styler at 0x105b0ceb0>"
      ]
     },
     "metadata": {},
     "output_type": "display_data"
    },
    {
     "data": {
      "text/html": [],
      "text/plain": [
       "<IPython.core.display.HTML object>"
      ]
     },
     "metadata": {},
     "output_type": "display_data"
    },
    {
     "data": {
      "image/png": "[encoded data removed]",
      "text/plain": [
       "<Figure size 432x288 with 1 Axes>"
      ]
     },
     "metadata": {
      "needs_background": "light"
     },
     "output_type": "display_data"
    },
    {
     "data": {
      "text/html": [],
      "text/plain": [
       "<IPython.core.display.HTML object>"
      ]
     },
     "metadata": {},
     "output_type": "display_data"
    },
    {
     "data": {
      "image/png": "[encoded data removed]",
      "text/plain": [
       "<Figure size 432x288 with 2 Axes>"
      ]
     },
     "metadata": {
      "needs_background": "light"
     },
     "output_type": "display_data"
    }
   ],
   "source": [
    "predict_model(nb)\n",
    "plot_model(nb, plot = 'confusion_matrix')\n",
    "plot_model(nb, plot = 'class_report')"
   ]
  },
  {
   "cell_type": "markdown",
   "metadata": {},
   "source": [
    "## Model Explainability"
   ]
  },
  {
   "cell_type": "code",
   "execution_count": 17,
   "metadata": {},
   "outputs": [
    {
     "data": {
      "image/png": "[encoded data removed]",
      "text/plain": [
       "<Figure size 576x367.2 with 2 Axes>"
      ]
     },
     "metadata": {
      "needs_background": "light"
     },
     "output_type": "display_data"
    }
   ],
   "source": [
    "interpret_model(dt)"
   ]
  }
 ],
 "metadata": {
  "interpreter": {
   "hash": "b0fa6594d8f4cbf19f97940f81e996739fb7646882a419484c72d19e05852a7e"
  },
  "kernelspec": {
   "display_name": "Python 3.9.12 64-bit",
   "language": "python",
   "name": "python3"
  },
  "language_info": {
   "codemirror_mode": {
    "name": "ipython",
    "version": 3
   },
   "file_extension": ".py",
   "mimetype": "text/x-python",
   "name": "python",
   "nbconvert_exporter": "python",
   "pygments_lexer": "ipython3",
   "version": "3.9.12"
  },
  "orig_nbformat": 4
 },
 "nbformat": 4,
 "nbformat_minor": 2
}
