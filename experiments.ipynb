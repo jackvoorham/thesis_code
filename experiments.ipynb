{
 "cells": [
  {
   "cell_type": "code",
   "execution_count": 1,
   "metadata": {},
   "outputs": [],
   "source": [
    "import pandas as pd\n",
    "from enum import Enum     # for enum34, or the stdlib version\n",
    "from pycaret.classification import *\n",
    "from anonymizeip import anonymize_ip\n",
    "\n",
    "class IP_techniques(Enum):\n",
    "    bm = 1 #  black-marker\n",
    "    tr = 2 # truncation\n",
    "    no = 3 # Not anonymized\n",
    "    \n",
    "sample = 1  \n",
    "binary = 1 \n",
    "\n",
    "ip_technique = IP_techniques.no"
   ]
  },
  {
   "cell_type": "code",
   "execution_count": 2,
   "metadata": {},
   "outputs": [],
   "source": [
    "from typing import List\n",
    "\n",
    "def optimize_floats(df: pd.DataFrame) -> pd.DataFrame:\n",
    "    floats = df.select_dtypes(include=['float64']).columns.tolist()\n",
    "    df[floats] = df[floats].apply(pd.to_numeric, downcast='float')\n",
    "    return df\n",
    "\n",
    "\n",
    "def optimize_ints(df: pd.DataFrame) -> pd.DataFrame:\n",
    "    ints = df.select_dtypes(include=['int64']).columns.tolist()\n",
    "    df[ints] = df[ints].apply(pd.to_numeric, downcast='integer')\n",
    "    return df\n",
    "\n",
    "\n",
    "def optimize_objects(df: pd.DataFrame, datetime_features: List[str]) -> pd.DataFrame:\n",
    "    for col in df.select_dtypes(include=['object']):\n",
    "        if col not in datetime_features:\n",
    "            if not (type(df[col][0])==list):\n",
    "                num_unique_values = len(df[col].unique())\n",
    "                num_total_values = len(df[col])\n",
    "                if float(num_unique_values) / num_total_values < 0.5:\n",
    "                    df[col] = df[col].astype('category')\n",
    "        else:\n",
    "            df[col] = pd.to_datetime(df[col])\n",
    "    return df\n",
    "\n",
    "\n",
    "\n",
    "def optimize(df: pd.DataFrame, datetime_features: List[str] = []):\n",
    "    return optimize_floats(optimize_ints(optimize_objects(df, datetime_features)))"
   ]
  },
  {
   "cell_type": "code",
   "execution_count": 3,
   "metadata": {},
   "outputs": [],
   "source": [
    "df = pd.read_csv(\"NF-ToN-IoT-v2.csv\")"
   ]
  },
  {
   "cell_type": "markdown",
   "metadata": {},
   "source": [
    "## Checks"
   ]
  },
  {
   "cell_type": "code",
   "execution_count": 4,
   "metadata": {},
   "outputs": [
    {
     "data": {
      "text/plain": [
       "Index(['IPV4_SRC_ADDR', 'L4_SRC_PORT', 'IPV4_DST_ADDR', 'L4_DST_PORT',\n",
       "       'PROTOCOL', 'L7_PROTO', 'IN_BYTES', 'IN_PKTS', 'OUT_BYTES', 'OUT_PKTS',\n",
       "       'TCP_FLAGS', 'CLIENT_TCP_FLAGS', 'SERVER_TCP_FLAGS',\n",
       "       'FLOW_DURATION_MILLISECONDS', 'DURATION_IN', 'DURATION_OUT', 'MIN_TTL',\n",
       "       'MAX_TTL', 'LONGEST_FLOW_PKT', 'SHORTEST_FLOW_PKT', 'MIN_IP_PKT_LEN',\n",
       "       'MAX_IP_PKT_LEN', 'SRC_TO_DST_SECOND_BYTES', 'DST_TO_SRC_SECOND_BYTES',\n",
       "       'RETRANSMITTED_IN_BYTES', 'RETRANSMITTED_IN_PKTS',\n",
       "       'RETRANSMITTED_OUT_BYTES', 'RETRANSMITTED_OUT_PKTS',\n",
       "       'SRC_TO_DST_AVG_THROUGHPUT', 'DST_TO_SRC_AVG_THROUGHPUT',\n",
       "       'NUM_PKTS_UP_TO_128_BYTES', 'NUM_PKTS_128_TO_256_BYTES',\n",
       "       'NUM_PKTS_256_TO_512_BYTES', 'NUM_PKTS_512_TO_1024_BYTES',\n",
       "       'NUM_PKTS_1024_TO_1514_BYTES', 'TCP_WIN_MAX_IN', 'TCP_WIN_MAX_OUT',\n",
       "       'ICMP_TYPE', 'ICMP_IPV4_TYPE', 'DNS_QUERY_ID', 'DNS_QUERY_TYPE',\n",
       "       'DNS_TTL_ANSWER', 'FTP_COMMAND_RET_CODE', 'Label', 'Attack'],\n",
       "      dtype='object')"
      ]
     },
     "execution_count": 4,
     "metadata": {},
     "output_type": "execute_result"
    }
   ],
   "source": [
    "df.columns"
   ]
  },
  {
   "cell_type": "code",
   "execution_count": 5,
   "metadata": {},
   "outputs": [
    {
     "data": {
      "text/plain": [
       "192.168.1.31      4308656\n",
       "192.168.1.32      3614669\n",
       "192.168.1.30      3462837\n",
       "192.168.1.35      1254234\n",
       "192.168.1.39       983745\n",
       "                   ...   \n",
       "27.150.244.184          1\n",
       "163.172.235.3           1\n",
       "97.86.192.166           1\n",
       "248.42.224.200          1\n",
       "184.25.57.139           1\n",
       "Name: IPV4_SRC_ADDR, Length: 23079, dtype: int64"
      ]
     },
     "execution_count": 5,
     "metadata": {},
     "output_type": "execute_result"
    }
   ],
   "source": [
    "df['IPV4_SRC_ADDR'].value_counts()"
   ]
  },
  {
   "cell_type": "code",
   "execution_count": 6,
   "metadata": {},
   "outputs": [
    {
     "data": {
      "text/plain": [
       "192.168.1.195      2118567\n",
       "192.168.1.1        2012390\n",
       "192.168.1.190      1805130\n",
       "192.168.1.184      1653333\n",
       "192.168.1.180      1288737\n",
       "                    ...   \n",
       "189.209.90.89            1\n",
       "150.238.203.200          1\n",
       "23.196.161.55            1\n",
       "111.31.243.236           1\n",
       "205.129.11.118           1\n",
       "Name: IPV4_DST_ADDR, Length: 6868, dtype: int64"
      ]
     },
     "execution_count": 6,
     "metadata": {},
     "output_type": "execute_result"
    }
   ],
   "source": [
    "df['IPV4_DST_ADDR'].value_counts()"
   ]
  },
  {
   "cell_type": "markdown",
   "metadata": {},
   "source": [
    "## ================================================================="
   ]
  },
  {
   "cell_type": "code",
   "execution_count": 7,
   "metadata": {},
   "outputs": [
    {
     "data": {
      "text/plain": [
       "Index                              128\n",
       "L4_SRC_PORT                   67761984\n",
       "L4_DST_PORT                   67761984\n",
       "PROTOCOL                      16940496\n",
       "IN_BYTES                      67761984\n",
       "OUT_BYTES                     67761984\n",
       "IN_PKTS                       67761984\n",
       "OUT_PKTS                      67761984\n",
       "TCP_FLAGS                     33880992\n",
       "FLOW_DURATION_MILLISECONDS    67761984\n",
       "MIN_TTL                       33880992\n",
       "MAX_TTL                       33880992\n",
       "ICMP_TYPE                     67761984\n",
       "ICMP_IPV4_TYPE                33880992\n",
       "Label                         16940496\n",
       "Attack                        16940876\n",
       "dtype: int64"
      ]
     },
     "execution_count": 7,
     "metadata": {},
     "output_type": "execute_result"
    }
   ],
   "source": [
    "# Remove non-ipfix standardized features\n",
    "# See: https://www.ntop.org/guides/nprobe/cli_options.html#netflow-v9-ipfix-format-t\n",
    "# Thesis: Refer to table 2 for feature names and descriptions\n",
    "\n",
    "df_ipfix = df[['L4_SRC_PORT', 'L4_DST_PORT', 'PROTOCOL', 'IN_BYTES', 'OUT_BYTES', 'IN_PKTS', 'OUT_PKTS', 'TCP_FLAGS', 'FLOW_DURATION_MILLISECONDS', 'MIN_TTL', 'MAX_TTL', 'ICMP_TYPE', 'ICMP_IPV4_TYPE', 'Label', 'Attack']]\n",
    "df_ipfix.dtypes\n",
    "#df_ipfix['IPV4_SRC_ADDR'] = df_ipfix['IPV4_SRC_ADDR'].astype('category')\n",
    "#df_ipfix['IPV4_DST_ADDR'] = df_ipfix['IPV4_DST_ADDR'].astype('category')\n",
    "\n",
    "df_ipfix = optimize(df_ipfix, [])\n",
    "df_ipfix.memory_usage()"
   ]
  },
  {
   "cell_type": "code",
   "execution_count": 8,
   "metadata": {},
   "outputs": [
    {
     "data": {
      "text/html": [
       "<div>\n",
       "<style scoped>\n",
       "    .dataframe tbody tr th:only-of-type {\n",
       "        vertical-align: middle;\n",
       "    }\n",
       "\n",
       "    .dataframe tbody tr th {\n",
       "        vertical-align: top;\n",
       "    }\n",
       "\n",
       "    .dataframe thead th {\n",
       "        text-align: right;\n",
       "    }\n",
       "</style>\n",
       "<table border=\"1\" class=\"dataframe\">\n",
       "  <thead>\n",
       "    <tr style=\"text-align: right;\">\n",
       "      <th></th>\n",
       "      <th>L4_SRC_PORT</th>\n",
       "      <th>L4_DST_PORT</th>\n",
       "      <th>PROTOCOL</th>\n",
       "      <th>IN_BYTES</th>\n",
       "      <th>OUT_BYTES</th>\n",
       "      <th>IN_PKTS</th>\n",
       "      <th>OUT_PKTS</th>\n",
       "      <th>TCP_FLAGS</th>\n",
       "      <th>FLOW_DURATION_MILLISECONDS</th>\n",
       "      <th>MIN_TTL</th>\n",
       "      <th>MAX_TTL</th>\n",
       "      <th>ICMP_TYPE</th>\n",
       "      <th>ICMP_IPV4_TYPE</th>\n",
       "      <th>Label</th>\n",
       "      <th>Attack</th>\n",
       "    </tr>\n",
       "  </thead>\n",
       "  <tbody>\n",
       "    <tr>\n",
       "      <th>0</th>\n",
       "      <td>49235</td>\n",
       "      <td>4444</td>\n",
       "      <td>6</td>\n",
       "      <td>155392</td>\n",
       "      <td>34552</td>\n",
       "      <td>202</td>\n",
       "      <td>149</td>\n",
       "      <td>24</td>\n",
       "      <td>4294952</td>\n",
       "      <td>128</td>\n",
       "      <td>128</td>\n",
       "      <td>0</td>\n",
       "      <td>0</td>\n",
       "      <td>1</td>\n",
       "      <td>ransomware</td>\n",
       "    </tr>\n",
       "    <tr>\n",
       "      <th>1</th>\n",
       "      <td>49228</td>\n",
       "      <td>1880</td>\n",
       "      <td>6</td>\n",
       "      <td>1600</td>\n",
       "      <td>35741</td>\n",
       "      <td>40</td>\n",
       "      <td>65</td>\n",
       "      <td>24</td>\n",
       "      <td>4294952</td>\n",
       "      <td>128</td>\n",
       "      <td>128</td>\n",
       "      <td>0</td>\n",
       "      <td>0</td>\n",
       "      <td>0</td>\n",
       "      <td>Benign</td>\n",
       "    </tr>\n",
       "    <tr>\n",
       "      <th>2</th>\n",
       "      <td>0</td>\n",
       "      <td>0</td>\n",
       "      <td>1</td>\n",
       "      <td>212</td>\n",
       "      <td>0</td>\n",
       "      <td>2</td>\n",
       "      <td>0</td>\n",
       "      <td>0</td>\n",
       "      <td>0</td>\n",
       "      <td>64</td>\n",
       "      <td>64</td>\n",
       "      <td>771</td>\n",
       "      <td>3</td>\n",
       "      <td>0</td>\n",
       "      <td>Benign</td>\n",
       "    </tr>\n",
       "    <tr>\n",
       "      <th>3</th>\n",
       "      <td>65317</td>\n",
       "      <td>1900</td>\n",
       "      <td>17</td>\n",
       "      <td>165</td>\n",
       "      <td>0</td>\n",
       "      <td>1</td>\n",
       "      <td>0</td>\n",
       "      <td>0</td>\n",
       "      <td>0</td>\n",
       "      <td>0</td>\n",
       "      <td>0</td>\n",
       "      <td>0</td>\n",
       "      <td>0</td>\n",
       "      <td>0</td>\n",
       "      <td>Benign</td>\n",
       "    </tr>\n",
       "    <tr>\n",
       "      <th>4</th>\n",
       "      <td>60766</td>\n",
       "      <td>15600</td>\n",
       "      <td>17</td>\n",
       "      <td>63</td>\n",
       "      <td>0</td>\n",
       "      <td>1</td>\n",
       "      <td>0</td>\n",
       "      <td>0</td>\n",
       "      <td>0</td>\n",
       "      <td>0</td>\n",
       "      <td>0</td>\n",
       "      <td>0</td>\n",
       "      <td>0</td>\n",
       "      <td>0</td>\n",
       "      <td>Benign</td>\n",
       "    </tr>\n",
       "  </tbody>\n",
       "</table>\n",
       "</div>"
      ],
      "text/plain": [
       "   L4_SRC_PORT  L4_DST_PORT  PROTOCOL  IN_BYTES  OUT_BYTES  IN_PKTS  OUT_PKTS  \\\n",
       "0        49235         4444         6    155392      34552      202       149   \n",
       "1        49228         1880         6      1600      35741       40        65   \n",
       "2            0            0         1       212          0        2         0   \n",
       "3        65317         1900        17       165          0        1         0   \n",
       "4        60766        15600        17        63          0        1         0   \n",
       "\n",
       "   TCP_FLAGS  FLOW_DURATION_MILLISECONDS  MIN_TTL  MAX_TTL  ICMP_TYPE  \\\n",
       "0         24                     4294952      128      128          0   \n",
       "1         24                     4294952      128      128          0   \n",
       "2          0                           0       64       64        771   \n",
       "3          0                           0        0        0          0   \n",
       "4          0                           0        0        0          0   \n",
       "\n",
       "   ICMP_IPV4_TYPE  Label      Attack  \n",
       "0               0      1  ransomware  \n",
       "1               0      0      Benign  \n",
       "2               3      0      Benign  \n",
       "3               0      0      Benign  \n",
       "4               0      0      Benign  "
      ]
     },
     "execution_count": 8,
     "metadata": {},
     "output_type": "execute_result"
    }
   ],
   "source": [
    "df_ipfix.head()"
   ]
  },
  {
   "cell_type": "code",
   "execution_count": 18,
   "metadata": {},
   "outputs": [],
   "source": [
    "if(binary):\n",
    "    df_ = df_ipfix.drop(\"Attack\", axis=1)\n",
    "else:\n",
    "    df_ = df_ipfix.drop(\"Label\", axis=1)\n",
    "\n",
    "# Samples\n",
    "if(sample):\n",
    "    df_ = df_.sample(n=1000)"
   ]
  },
  {
   "cell_type": "markdown",
   "metadata": {},
   "source": [
    "## Feature Anonymization"
   ]
  },
  {
   "cell_type": "markdown",
   "metadata": {},
   "source": [
    "### IP-address anonymization "
   ]
  },
  {
   "cell_type": "code",
   "execution_count": 19,
   "metadata": {},
   "outputs": [
    {
     "data": {
      "text/plain": [
       "\"\\nif(ip_technique == IP_techniques.tr):\\n    df_['IPV4_DST_ADDR'] = df_['IPV4_DST_ADDR'].apply(lambda x: anonymize_ip(x))\\n    df_['IPV4_SRC_ADDR'] = df_['IPV4_SRC_ADDR'].apply(lambda x: anonymize_ip(x))\\nelif(ip_technique == IP_techniques.bm):\\n    df_['IPV4_SRC_ADDR'] = 0\\n    df_['IPV4_DST_ADDR'] = 0\\n    df_['IPV4_SRC_ADDR'] = df_['IPV4_SRC_ADDR'].astype('str') # fix fill_value'=constant is invalid error  \\n    df_['IPV4_DST_ADDR'] = df_['IPV4_DST_ADDR'].astype('str')\\ndf_.head()\\ndf_['IPV4_SRC_ADDR'].value_counts()\\n\""
      ]
     },
     "execution_count": 19,
     "metadata": {},
     "output_type": "execute_result"
    }
   ],
   "source": [
    "#pd.set_option(\"display.max_rows\", None)\n",
    "\n",
    "# /24 network address truncation\n",
    "\n",
    "'''\n",
    "if(ip_technique == IP_techniques.tr):\n",
    "    df_['IPV4_DST_ADDR'] = df_['IPV4_DST_ADDR'].apply(lambda x: anonymize_ip(x))\n",
    "    df_['IPV4_SRC_ADDR'] = df_['IPV4_SRC_ADDR'].apply(lambda x: anonymize_ip(x))\n",
    "elif(ip_technique == IP_techniques.bm):\n",
    "    df_['IPV4_SRC_ADDR'] = 0\n",
    "    df_['IPV4_DST_ADDR'] = 0\n",
    "    df_['IPV4_SRC_ADDR'] = df_['IPV4_SRC_ADDR'].astype('str') # fix fill_value'=constant is invalid error  \n",
    "    df_['IPV4_DST_ADDR'] = df_['IPV4_DST_ADDR'].astype('str')\n",
    "df_.head()\n",
    "df_['IPV4_SRC_ADDR'].value_counts()\n",
    "'''"
   ]
  },
  {
   "cell_type": "code",
   "execution_count": 20,
   "metadata": {},
   "outputs": [
    {
     "data": {
      "text/html": [
       "<style type=\"text/css\">\n",
       "#T_6023f_row9_col1 {\n",
       "  background-color: lightgreen;\n",
       "}\n",
       "</style>\n",
       "<table id=\"T_6023f\">\n",
       "  <thead>\n",
       "    <tr>\n",
       "      <th class=\"blank level0\" >&nbsp;</th>\n",
       "      <th id=\"T_6023f_level0_col0\" class=\"col_heading level0 col0\" >Description</th>\n",
       "      <th id=\"T_6023f_level0_col1\" class=\"col_heading level0 col1\" >Value</th>\n",
       "    </tr>\n",
       "  </thead>\n",
       "  <tbody>\n",
       "    <tr>\n",
       "      <th id=\"T_6023f_level0_row0\" class=\"row_heading level0 row0\" >0</th>\n",
       "      <td id=\"T_6023f_row0_col0\" class=\"data row0 col0\" >Session id</td>\n",
       "      <td id=\"T_6023f_row0_col1\" class=\"data row0 col1\" >8282</td>\n",
       "    </tr>\n",
       "    <tr>\n",
       "      <th id=\"T_6023f_level0_row1\" class=\"row_heading level0 row1\" >1</th>\n",
       "      <td id=\"T_6023f_row1_col0\" class=\"data row1 col0\" >Target</td>\n",
       "      <td id=\"T_6023f_row1_col1\" class=\"data row1 col1\" >Label</td>\n",
       "    </tr>\n",
       "    <tr>\n",
       "      <th id=\"T_6023f_level0_row2\" class=\"row_heading level0 row2\" >2</th>\n",
       "      <td id=\"T_6023f_row2_col0\" class=\"data row2 col0\" >Target type</td>\n",
       "      <td id=\"T_6023f_row2_col1\" class=\"data row2 col1\" >Binary</td>\n",
       "    </tr>\n",
       "    <tr>\n",
       "      <th id=\"T_6023f_level0_row3\" class=\"row_heading level0 row3\" >3</th>\n",
       "      <td id=\"T_6023f_row3_col0\" class=\"data row3 col0\" >Original data shape</td>\n",
       "      <td id=\"T_6023f_row3_col1\" class=\"data row3 col1\" >(1000, 14)</td>\n",
       "    </tr>\n",
       "    <tr>\n",
       "      <th id=\"T_6023f_level0_row4\" class=\"row_heading level0 row4\" >4</th>\n",
       "      <td id=\"T_6023f_row4_col0\" class=\"data row4 col0\" >Transformed data shape</td>\n",
       "      <td id=\"T_6023f_row4_col1\" class=\"data row4 col1\" >(1000, 15)</td>\n",
       "    </tr>\n",
       "    <tr>\n",
       "      <th id=\"T_6023f_level0_row5\" class=\"row_heading level0 row5\" >5</th>\n",
       "      <td id=\"T_6023f_row5_col0\" class=\"data row5 col0\" >Transformed train set shape</td>\n",
       "      <td id=\"T_6023f_row5_col1\" class=\"data row5 col1\" >(699, 15)</td>\n",
       "    </tr>\n",
       "    <tr>\n",
       "      <th id=\"T_6023f_level0_row6\" class=\"row_heading level0 row6\" >6</th>\n",
       "      <td id=\"T_6023f_row6_col0\" class=\"data row6 col0\" >Transformed test set shape</td>\n",
       "      <td id=\"T_6023f_row6_col1\" class=\"data row6 col1\" >(301, 15)</td>\n",
       "    </tr>\n",
       "    <tr>\n",
       "      <th id=\"T_6023f_level0_row7\" class=\"row_heading level0 row7\" >7</th>\n",
       "      <td id=\"T_6023f_row7_col0\" class=\"data row7 col0\" >Numeric features</td>\n",
       "      <td id=\"T_6023f_row7_col1\" class=\"data row7 col1\" >11</td>\n",
       "    </tr>\n",
       "    <tr>\n",
       "      <th id=\"T_6023f_level0_row8\" class=\"row_heading level0 row8\" >8</th>\n",
       "      <td id=\"T_6023f_row8_col0\" class=\"data row8 col0\" >Categorical features</td>\n",
       "      <td id=\"T_6023f_row8_col1\" class=\"data row8 col1\" >6</td>\n",
       "    </tr>\n",
       "    <tr>\n",
       "      <th id=\"T_6023f_level0_row9\" class=\"row_heading level0 row9\" >9</th>\n",
       "      <td id=\"T_6023f_row9_col0\" class=\"data row9 col0\" >Preprocess</td>\n",
       "      <td id=\"T_6023f_row9_col1\" class=\"data row9 col1\" >1</td>\n",
       "    </tr>\n",
       "    <tr>\n",
       "      <th id=\"T_6023f_level0_row10\" class=\"row_heading level0 row10\" >10</th>\n",
       "      <td id=\"T_6023f_row10_col0\" class=\"data row10 col0\" >Imputation type</td>\n",
       "      <td id=\"T_6023f_row10_col1\" class=\"data row10 col1\" >simple</td>\n",
       "    </tr>\n",
       "    <tr>\n",
       "      <th id=\"T_6023f_level0_row11\" class=\"row_heading level0 row11\" >11</th>\n",
       "      <td id=\"T_6023f_row11_col0\" class=\"data row11 col0\" >Numeric imputation</td>\n",
       "      <td id=\"T_6023f_row11_col1\" class=\"data row11 col1\" >mean</td>\n",
       "    </tr>\n",
       "    <tr>\n",
       "      <th id=\"T_6023f_level0_row12\" class=\"row_heading level0 row12\" >12</th>\n",
       "      <td id=\"T_6023f_row12_col0\" class=\"data row12 col0\" >Categorical imputation</td>\n",
       "      <td id=\"T_6023f_row12_col1\" class=\"data row12 col1\" >constant</td>\n",
       "    </tr>\n",
       "    <tr>\n",
       "      <th id=\"T_6023f_level0_row13\" class=\"row_heading level0 row13\" >13</th>\n",
       "      <td id=\"T_6023f_row13_col0\" class=\"data row13 col0\" >Maximum one-hot encoding</td>\n",
       "      <td id=\"T_6023f_row13_col1\" class=\"data row13 col1\" >5</td>\n",
       "    </tr>\n",
       "    <tr>\n",
       "      <th id=\"T_6023f_level0_row14\" class=\"row_heading level0 row14\" >14</th>\n",
       "      <td id=\"T_6023f_row14_col0\" class=\"data row14 col0\" >Encoding method</td>\n",
       "      <td id=\"T_6023f_row14_col1\" class=\"data row14 col1\" >None</td>\n",
       "    </tr>\n",
       "    <tr>\n",
       "      <th id=\"T_6023f_level0_row15\" class=\"row_heading level0 row15\" >15</th>\n",
       "      <td id=\"T_6023f_row15_col0\" class=\"data row15 col0\" >Fold Generator</td>\n",
       "      <td id=\"T_6023f_row15_col1\" class=\"data row15 col1\" >StratifiedKFold</td>\n",
       "    </tr>\n",
       "    <tr>\n",
       "      <th id=\"T_6023f_level0_row16\" class=\"row_heading level0 row16\" >16</th>\n",
       "      <td id=\"T_6023f_row16_col0\" class=\"data row16 col0\" >Fold Number</td>\n",
       "      <td id=\"T_6023f_row16_col1\" class=\"data row16 col1\" >10</td>\n",
       "    </tr>\n",
       "    <tr>\n",
       "      <th id=\"T_6023f_level0_row17\" class=\"row_heading level0 row17\" >17</th>\n",
       "      <td id=\"T_6023f_row17_col0\" class=\"data row17 col0\" >CPU Jobs</td>\n",
       "      <td id=\"T_6023f_row17_col1\" class=\"data row17 col1\" >-1</td>\n",
       "    </tr>\n",
       "    <tr>\n",
       "      <th id=\"T_6023f_level0_row18\" class=\"row_heading level0 row18\" >18</th>\n",
       "      <td id=\"T_6023f_row18_col0\" class=\"data row18 col0\" >Use GPU</td>\n",
       "      <td id=\"T_6023f_row18_col1\" class=\"data row18 col1\" >0</td>\n",
       "    </tr>\n",
       "    <tr>\n",
       "      <th id=\"T_6023f_level0_row19\" class=\"row_heading level0 row19\" >19</th>\n",
       "      <td id=\"T_6023f_row19_col0\" class=\"data row19 col0\" >Log Experiment</td>\n",
       "      <td id=\"T_6023f_row19_col1\" class=\"data row19 col1\" >0</td>\n",
       "    </tr>\n",
       "    <tr>\n",
       "      <th id=\"T_6023f_level0_row20\" class=\"row_heading level0 row20\" >20</th>\n",
       "      <td id=\"T_6023f_row20_col0\" class=\"data row20 col0\" >Experiment Name</td>\n",
       "      <td id=\"T_6023f_row20_col1\" class=\"data row20 col1\" >binary</td>\n",
       "    </tr>\n",
       "    <tr>\n",
       "      <th id=\"T_6023f_level0_row21\" class=\"row_heading level0 row21\" >21</th>\n",
       "      <td id=\"T_6023f_row21_col0\" class=\"data row21 col0\" >USI</td>\n",
       "      <td id=\"T_6023f_row21_col1\" class=\"data row21 col1\" >3299</td>\n",
       "    </tr>\n",
       "  </tbody>\n",
       "</table>\n"
      ],
      "text/plain": [
       "<pandas.io.formats.style.Styler at 0x17297f1f0>"
      ]
     },
     "metadata": {},
     "output_type": "display_data"
    }
   ],
   "source": [
    "df_['ICMP_TYPE'] = df_['ICMP_TYPE'].astype(str)\n",
    "df_['ICMP_IPV4_TYPE'] = df_['ICMP_IPV4_TYPE'].astype(str)\n",
    "if(binary):\n",
    "    session_binary = setup(df_, target = 'Label', experiment_name='binary', categorical_features = ['L4_SRC_PORT', 'L4_DST_PORT', 'PROTOCOL', 'TCP_FLAGS', 'ICMP_TYPE', 'ICMP_IPV4_TYPE'])\n",
    "else:\n",
    "    session_multi = setup(df_, target = 'Attack', experiment_name='multiclass', categorical_features = ['L4_SRC_PORT', 'L4_DST_PORT', 'PROTOCOL', 'TCP_FLAGS',  'ICMP_TYPE', 'ICMP_IPV4_TYPE'])\n"
   ]
  },
  {
   "cell_type": "markdown",
   "metadata": {},
   "source": []
  },
  {
   "cell_type": "code",
   "execution_count": 31,
   "metadata": {},
   "outputs": [
    {
     "data": {
      "text/html": [],
      "text/plain": [
       "<IPython.core.display.HTML object>"
      ]
     },
     "metadata": {},
     "output_type": "display_data"
    },
    {
     "data": {
      "text/html": [
       "<style type=\"text/css\">\n",
       "#T_b4a19_row10_col0, #T_b4a19_row10_col1, #T_b4a19_row10_col2, #T_b4a19_row10_col3, #T_b4a19_row10_col4, #T_b4a19_row10_col5, #T_b4a19_row10_col6 {\n",
       "  background: yellow;\n",
       "}\n",
       "</style>\n",
       "<table id=\"T_b4a19\">\n",
       "  <thead>\n",
       "    <tr>\n",
       "      <th class=\"blank level0\" >&nbsp;</th>\n",
       "      <th id=\"T_b4a19_level0_col0\" class=\"col_heading level0 col0\" >Accuracy</th>\n",
       "      <th id=\"T_b4a19_level0_col1\" class=\"col_heading level0 col1\" >AUC</th>\n",
       "      <th id=\"T_b4a19_level0_col2\" class=\"col_heading level0 col2\" >Recall</th>\n",
       "      <th id=\"T_b4a19_level0_col3\" class=\"col_heading level0 col3\" >Prec.</th>\n",
       "      <th id=\"T_b4a19_level0_col4\" class=\"col_heading level0 col4\" >F1</th>\n",
       "      <th id=\"T_b4a19_level0_col5\" class=\"col_heading level0 col5\" >Kappa</th>\n",
       "      <th id=\"T_b4a19_level0_col6\" class=\"col_heading level0 col6\" >MCC</th>\n",
       "    </tr>\n",
       "    <tr>\n",
       "      <th class=\"index_name level0\" >Fold</th>\n",
       "      <th class=\"blank col0\" >&nbsp;</th>\n",
       "      <th class=\"blank col1\" >&nbsp;</th>\n",
       "      <th class=\"blank col2\" >&nbsp;</th>\n",
       "      <th class=\"blank col3\" >&nbsp;</th>\n",
       "      <th class=\"blank col4\" >&nbsp;</th>\n",
       "      <th class=\"blank col5\" >&nbsp;</th>\n",
       "      <th class=\"blank col6\" >&nbsp;</th>\n",
       "    </tr>\n",
       "  </thead>\n",
       "  <tbody>\n",
       "    <tr>\n",
       "      <th id=\"T_b4a19_level0_row0\" class=\"row_heading level0 row0\" >0</th>\n",
       "      <td id=\"T_b4a19_row0_col0\" class=\"data row0 col0\" >0.6429</td>\n",
       "      <td id=\"T_b4a19_row0_col1\" class=\"data row0 col1\" >0.5000</td>\n",
       "      <td id=\"T_b4a19_row0_col2\" class=\"data row0 col2\" >1.0000</td>\n",
       "      <td id=\"T_b4a19_row0_col3\" class=\"data row0 col3\" >0.6429</td>\n",
       "      <td id=\"T_b4a19_row0_col4\" class=\"data row0 col4\" >0.7826</td>\n",
       "      <td id=\"T_b4a19_row0_col5\" class=\"data row0 col5\" >0.0000</td>\n",
       "      <td id=\"T_b4a19_row0_col6\" class=\"data row0 col6\" >0.0000</td>\n",
       "    </tr>\n",
       "    <tr>\n",
       "      <th id=\"T_b4a19_level0_row1\" class=\"row_heading level0 row1\" >1</th>\n",
       "      <td id=\"T_b4a19_row1_col0\" class=\"data row1 col0\" >0.6429</td>\n",
       "      <td id=\"T_b4a19_row1_col1\" class=\"data row1 col1\" >0.5000</td>\n",
       "      <td id=\"T_b4a19_row1_col2\" class=\"data row1 col2\" >1.0000</td>\n",
       "      <td id=\"T_b4a19_row1_col3\" class=\"data row1 col3\" >0.6429</td>\n",
       "      <td id=\"T_b4a19_row1_col4\" class=\"data row1 col4\" >0.7826</td>\n",
       "      <td id=\"T_b4a19_row1_col5\" class=\"data row1 col5\" >0.0000</td>\n",
       "      <td id=\"T_b4a19_row1_col6\" class=\"data row1 col6\" >0.0000</td>\n",
       "    </tr>\n",
       "    <tr>\n",
       "      <th id=\"T_b4a19_level0_row2\" class=\"row_heading level0 row2\" >2</th>\n",
       "      <td id=\"T_b4a19_row2_col0\" class=\"data row2 col0\" >0.6429</td>\n",
       "      <td id=\"T_b4a19_row2_col1\" class=\"data row2 col1\" >0.5000</td>\n",
       "      <td id=\"T_b4a19_row2_col2\" class=\"data row2 col2\" >1.0000</td>\n",
       "      <td id=\"T_b4a19_row2_col3\" class=\"data row2 col3\" >0.6429</td>\n",
       "      <td id=\"T_b4a19_row2_col4\" class=\"data row2 col4\" >0.7826</td>\n",
       "      <td id=\"T_b4a19_row2_col5\" class=\"data row2 col5\" >0.0000</td>\n",
       "      <td id=\"T_b4a19_row2_col6\" class=\"data row2 col6\" >0.0000</td>\n",
       "    </tr>\n",
       "    <tr>\n",
       "      <th id=\"T_b4a19_level0_row3\" class=\"row_heading level0 row3\" >3</th>\n",
       "      <td id=\"T_b4a19_row3_col0\" class=\"data row3 col0\" >0.6429</td>\n",
       "      <td id=\"T_b4a19_row3_col1\" class=\"data row3 col1\" >0.5000</td>\n",
       "      <td id=\"T_b4a19_row3_col2\" class=\"data row3 col2\" >1.0000</td>\n",
       "      <td id=\"T_b4a19_row3_col3\" class=\"data row3 col3\" >0.6429</td>\n",
       "      <td id=\"T_b4a19_row3_col4\" class=\"data row3 col4\" >0.7826</td>\n",
       "      <td id=\"T_b4a19_row3_col5\" class=\"data row3 col5\" >0.0000</td>\n",
       "      <td id=\"T_b4a19_row3_col6\" class=\"data row3 col6\" >0.0000</td>\n",
       "    </tr>\n",
       "    <tr>\n",
       "      <th id=\"T_b4a19_level0_row4\" class=\"row_heading level0 row4\" >4</th>\n",
       "      <td id=\"T_b4a19_row4_col0\" class=\"data row4 col0\" >0.6429</td>\n",
       "      <td id=\"T_b4a19_row4_col1\" class=\"data row4 col1\" >0.5000</td>\n",
       "      <td id=\"T_b4a19_row4_col2\" class=\"data row4 col2\" >1.0000</td>\n",
       "      <td id=\"T_b4a19_row4_col3\" class=\"data row4 col3\" >0.6429</td>\n",
       "      <td id=\"T_b4a19_row4_col4\" class=\"data row4 col4\" >0.7826</td>\n",
       "      <td id=\"T_b4a19_row4_col5\" class=\"data row4 col5\" >0.0000</td>\n",
       "      <td id=\"T_b4a19_row4_col6\" class=\"data row4 col6\" >0.0000</td>\n",
       "    </tr>\n",
       "    <tr>\n",
       "      <th id=\"T_b4a19_level0_row5\" class=\"row_heading level0 row5\" >5</th>\n",
       "      <td id=\"T_b4a19_row5_col0\" class=\"data row5 col0\" >0.6571</td>\n",
       "      <td id=\"T_b4a19_row5_col1\" class=\"data row5 col1\" >0.5000</td>\n",
       "      <td id=\"T_b4a19_row5_col2\" class=\"data row5 col2\" >1.0000</td>\n",
       "      <td id=\"T_b4a19_row5_col3\" class=\"data row5 col3\" >0.6571</td>\n",
       "      <td id=\"T_b4a19_row5_col4\" class=\"data row5 col4\" >0.7931</td>\n",
       "      <td id=\"T_b4a19_row5_col5\" class=\"data row5 col5\" >0.0000</td>\n",
       "      <td id=\"T_b4a19_row5_col6\" class=\"data row5 col6\" >0.0000</td>\n",
       "    </tr>\n",
       "    <tr>\n",
       "      <th id=\"T_b4a19_level0_row6\" class=\"row_heading level0 row6\" >6</th>\n",
       "      <td id=\"T_b4a19_row6_col0\" class=\"data row6 col0\" >0.6571</td>\n",
       "      <td id=\"T_b4a19_row6_col1\" class=\"data row6 col1\" >0.5000</td>\n",
       "      <td id=\"T_b4a19_row6_col2\" class=\"data row6 col2\" >1.0000</td>\n",
       "      <td id=\"T_b4a19_row6_col3\" class=\"data row6 col3\" >0.6571</td>\n",
       "      <td id=\"T_b4a19_row6_col4\" class=\"data row6 col4\" >0.7931</td>\n",
       "      <td id=\"T_b4a19_row6_col5\" class=\"data row6 col5\" >0.0000</td>\n",
       "      <td id=\"T_b4a19_row6_col6\" class=\"data row6 col6\" >0.0000</td>\n",
       "    </tr>\n",
       "    <tr>\n",
       "      <th id=\"T_b4a19_level0_row7\" class=\"row_heading level0 row7\" >7</th>\n",
       "      <td id=\"T_b4a19_row7_col0\" class=\"data row7 col0\" >0.6571</td>\n",
       "      <td id=\"T_b4a19_row7_col1\" class=\"data row7 col1\" >0.5000</td>\n",
       "      <td id=\"T_b4a19_row7_col2\" class=\"data row7 col2\" >1.0000</td>\n",
       "      <td id=\"T_b4a19_row7_col3\" class=\"data row7 col3\" >0.6571</td>\n",
       "      <td id=\"T_b4a19_row7_col4\" class=\"data row7 col4\" >0.7931</td>\n",
       "      <td id=\"T_b4a19_row7_col5\" class=\"data row7 col5\" >0.0000</td>\n",
       "      <td id=\"T_b4a19_row7_col6\" class=\"data row7 col6\" >0.0000</td>\n",
       "    </tr>\n",
       "    <tr>\n",
       "      <th id=\"T_b4a19_level0_row8\" class=\"row_heading level0 row8\" >8</th>\n",
       "      <td id=\"T_b4a19_row8_col0\" class=\"data row8 col0\" >0.6571</td>\n",
       "      <td id=\"T_b4a19_row8_col1\" class=\"data row8 col1\" >0.5000</td>\n",
       "      <td id=\"T_b4a19_row8_col2\" class=\"data row8 col2\" >1.0000</td>\n",
       "      <td id=\"T_b4a19_row8_col3\" class=\"data row8 col3\" >0.6571</td>\n",
       "      <td id=\"T_b4a19_row8_col4\" class=\"data row8 col4\" >0.7931</td>\n",
       "      <td id=\"T_b4a19_row8_col5\" class=\"data row8 col5\" >0.0000</td>\n",
       "      <td id=\"T_b4a19_row8_col6\" class=\"data row8 col6\" >0.0000</td>\n",
       "    </tr>\n",
       "    <tr>\n",
       "      <th id=\"T_b4a19_level0_row9\" class=\"row_heading level0 row9\" >9</th>\n",
       "      <td id=\"T_b4a19_row9_col0\" class=\"data row9 col0\" >0.6522</td>\n",
       "      <td id=\"T_b4a19_row9_col1\" class=\"data row9 col1\" >0.5000</td>\n",
       "      <td id=\"T_b4a19_row9_col2\" class=\"data row9 col2\" >1.0000</td>\n",
       "      <td id=\"T_b4a19_row9_col3\" class=\"data row9 col3\" >0.6522</td>\n",
       "      <td id=\"T_b4a19_row9_col4\" class=\"data row9 col4\" >0.7895</td>\n",
       "      <td id=\"T_b4a19_row9_col5\" class=\"data row9 col5\" >0.0000</td>\n",
       "      <td id=\"T_b4a19_row9_col6\" class=\"data row9 col6\" >0.0000</td>\n",
       "    </tr>\n",
       "    <tr>\n",
       "      <th id=\"T_b4a19_level0_row10\" class=\"row_heading level0 row10\" >Mean</th>\n",
       "      <td id=\"T_b4a19_row10_col0\" class=\"data row10 col0\" >0.6495</td>\n",
       "      <td id=\"T_b4a19_row10_col1\" class=\"data row10 col1\" >0.5000</td>\n",
       "      <td id=\"T_b4a19_row10_col2\" class=\"data row10 col2\" >1.0000</td>\n",
       "      <td id=\"T_b4a19_row10_col3\" class=\"data row10 col3\" >0.6495</td>\n",
       "      <td id=\"T_b4a19_row10_col4\" class=\"data row10 col4\" >0.7875</td>\n",
       "      <td id=\"T_b4a19_row10_col5\" class=\"data row10 col5\" >0.0000</td>\n",
       "      <td id=\"T_b4a19_row10_col6\" class=\"data row10 col6\" >0.0000</td>\n",
       "    </tr>\n",
       "    <tr>\n",
       "      <th id=\"T_b4a19_level0_row11\" class=\"row_heading level0 row11\" >Std</th>\n",
       "      <td id=\"T_b4a19_row11_col0\" class=\"data row11 col0\" >0.0068</td>\n",
       "      <td id=\"T_b4a19_row11_col1\" class=\"data row11 col1\" >0.0000</td>\n",
       "      <td id=\"T_b4a19_row11_col2\" class=\"data row11 col2\" >0.0000</td>\n",
       "      <td id=\"T_b4a19_row11_col3\" class=\"data row11 col3\" >0.0068</td>\n",
       "      <td id=\"T_b4a19_row11_col4\" class=\"data row11 col4\" >0.0050</td>\n",
       "      <td id=\"T_b4a19_row11_col5\" class=\"data row11 col5\" >0.0000</td>\n",
       "      <td id=\"T_b4a19_row11_col6\" class=\"data row11 col6\" >0.0000</td>\n",
       "    </tr>\n",
       "  </tbody>\n",
       "</table>\n"
      ],
      "text/plain": [
       "<pandas.io.formats.style.Styler at 0x1729ee5b0>"
      ]
     },
     "metadata": {},
     "output_type": "display_data"
    },
    {
     "data": {
      "application/vnd.jupyter.widget-view+json": {
       "model_id": "34fdfac4be864acda4de0b326ba1b225",
       "version_major": 2,
       "version_minor": 0
      },
      "text/plain": [
       "Processing:   0%|          | 0/4 [00:00<?, ?it/s]"
      ]
     },
     "metadata": {},
     "output_type": "display_data"
    },
    {
     "data": {
      "application/vnd.jupyter.widget-view+json": {
       "model_id": "412ae5ec34604861a06a63dc14d1d018",
       "version_major": 2,
       "version_minor": 0
      },
      "text/plain": [
       "interactive(children=(ToggleButtons(description='Plot Type:', icons=('',), options=(('Pipeline Plot', 'pipelin…"
      ]
     },
     "metadata": {},
     "output_type": "display_data"
    }
   ],
   "source": [
    "dt = create_model('dt')\n",
    "evaluate_model(dt)"
   ]
  },
  {
   "cell_type": "code",
   "execution_count": 32,
   "metadata": {},
   "outputs": [
    {
     "name": "stdout",
     "output_type": "stream",
     "text": [
      "Decision Tree - Results:\n",
      "      Accuracy  AUC  Recall   Prec.      F1  Kappa  MCC\n",
      "Fold                                                   \n",
      "0       0.6429  0.5     1.0  0.6429  0.7826    0.0  0.0\n",
      "1       0.6429  0.5     1.0  0.6429  0.7826    0.0  0.0\n",
      "2       0.6429  0.5     1.0  0.6429  0.7826    0.0  0.0\n",
      "3       0.6429  0.5     1.0  0.6429  0.7826    0.0  0.0\n",
      "4       0.6429  0.5     1.0  0.6429  0.7826    0.0  0.0\n",
      "5       0.6571  0.5     1.0  0.6571  0.7931    0.0  0.0\n",
      "6       0.6571  0.5     1.0  0.6571  0.7931    0.0  0.0\n",
      "7       0.6571  0.5     1.0  0.6571  0.7931    0.0  0.0\n",
      "8       0.6571  0.5     1.0  0.6571  0.7931    0.0  0.0\n",
      "9       0.6522  0.5     1.0  0.6522  0.7895    0.0  0.0\n",
      "Mean    0.6495  0.5     1.0  0.6495  0.7875    0.0  0.0\n",
      "Std     0.0068  0.0     0.0  0.0068  0.0050    0.0  0.0\n"
     ]
    }
   ],
   "source": [
    "results = pull()\n",
    "print(\"--------------------------------\")\n",
    "print(\"Decision Tree - Results:\")\n",
    "print(results)\n",
    "print(\"--------------------------------\")"
   ]
  },
  {
   "cell_type": "code",
   "execution_count": 33,
   "metadata": {},
   "outputs": [
    {
     "data": {
      "text/html": [],
      "text/plain": [
       "<IPython.core.display.HTML object>"
      ]
     },
     "metadata": {},
     "output_type": "display_data"
    },
    {
     "data": {
      "text/html": [
       "<style type=\"text/css\">\n",
       "#T_0c4fd_row10_col0, #T_0c4fd_row10_col1, #T_0c4fd_row10_col2, #T_0c4fd_row10_col3, #T_0c4fd_row10_col4, #T_0c4fd_row10_col5, #T_0c4fd_row10_col6 {\n",
       "  background: yellow;\n",
       "}\n",
       "</style>\n",
       "<table id=\"T_0c4fd\">\n",
       "  <thead>\n",
       "    <tr>\n",
       "      <th class=\"blank level0\" >&nbsp;</th>\n",
       "      <th id=\"T_0c4fd_level0_col0\" class=\"col_heading level0 col0\" >Accuracy</th>\n",
       "      <th id=\"T_0c4fd_level0_col1\" class=\"col_heading level0 col1\" >AUC</th>\n",
       "      <th id=\"T_0c4fd_level0_col2\" class=\"col_heading level0 col2\" >Recall</th>\n",
       "      <th id=\"T_0c4fd_level0_col3\" class=\"col_heading level0 col3\" >Prec.</th>\n",
       "      <th id=\"T_0c4fd_level0_col4\" class=\"col_heading level0 col4\" >F1</th>\n",
       "      <th id=\"T_0c4fd_level0_col5\" class=\"col_heading level0 col5\" >Kappa</th>\n",
       "      <th id=\"T_0c4fd_level0_col6\" class=\"col_heading level0 col6\" >MCC</th>\n",
       "    </tr>\n",
       "    <tr>\n",
       "      <th class=\"index_name level0\" >Fold</th>\n",
       "      <th class=\"blank col0\" >&nbsp;</th>\n",
       "      <th class=\"blank col1\" >&nbsp;</th>\n",
       "      <th class=\"blank col2\" >&nbsp;</th>\n",
       "      <th class=\"blank col3\" >&nbsp;</th>\n",
       "      <th class=\"blank col4\" >&nbsp;</th>\n",
       "      <th class=\"blank col5\" >&nbsp;</th>\n",
       "      <th class=\"blank col6\" >&nbsp;</th>\n",
       "    </tr>\n",
       "  </thead>\n",
       "  <tbody>\n",
       "    <tr>\n",
       "      <th id=\"T_0c4fd_level0_row0\" class=\"row_heading level0 row0\" >0</th>\n",
       "      <td id=\"T_0c4fd_row0_col0\" class=\"data row0 col0\" >0.6429</td>\n",
       "      <td id=\"T_0c4fd_row0_col1\" class=\"data row0 col1\" >0.8813</td>\n",
       "      <td id=\"T_0c4fd_row0_col2\" class=\"data row0 col2\" >1.0000</td>\n",
       "      <td id=\"T_0c4fd_row0_col3\" class=\"data row0 col3\" >0.6429</td>\n",
       "      <td id=\"T_0c4fd_row0_col4\" class=\"data row0 col4\" >0.7826</td>\n",
       "      <td id=\"T_0c4fd_row0_col5\" class=\"data row0 col5\" >0.0000</td>\n",
       "      <td id=\"T_0c4fd_row0_col6\" class=\"data row0 col6\" >0.0000</td>\n",
       "    </tr>\n",
       "    <tr>\n",
       "      <th id=\"T_0c4fd_level0_row1\" class=\"row_heading level0 row1\" >1</th>\n",
       "      <td id=\"T_0c4fd_row1_col0\" class=\"data row1 col0\" >0.6429</td>\n",
       "      <td id=\"T_0c4fd_row1_col1\" class=\"data row1 col1\" >0.8524</td>\n",
       "      <td id=\"T_0c4fd_row1_col2\" class=\"data row1 col2\" >1.0000</td>\n",
       "      <td id=\"T_0c4fd_row1_col3\" class=\"data row1 col3\" >0.6429</td>\n",
       "      <td id=\"T_0c4fd_row1_col4\" class=\"data row1 col4\" >0.7826</td>\n",
       "      <td id=\"T_0c4fd_row1_col5\" class=\"data row1 col5\" >0.0000</td>\n",
       "      <td id=\"T_0c4fd_row1_col6\" class=\"data row1 col6\" >0.0000</td>\n",
       "    </tr>\n",
       "    <tr>\n",
       "      <th id=\"T_0c4fd_level0_row2\" class=\"row_heading level0 row2\" >2</th>\n",
       "      <td id=\"T_0c4fd_row2_col0\" class=\"data row2 col0\" >0.6429</td>\n",
       "      <td id=\"T_0c4fd_row2_col1\" class=\"data row2 col1\" >0.8982</td>\n",
       "      <td id=\"T_0c4fd_row2_col2\" class=\"data row2 col2\" >1.0000</td>\n",
       "      <td id=\"T_0c4fd_row2_col3\" class=\"data row2 col3\" >0.6429</td>\n",
       "      <td id=\"T_0c4fd_row2_col4\" class=\"data row2 col4\" >0.7826</td>\n",
       "      <td id=\"T_0c4fd_row2_col5\" class=\"data row2 col5\" >0.0000</td>\n",
       "      <td id=\"T_0c4fd_row2_col6\" class=\"data row2 col6\" >0.0000</td>\n",
       "    </tr>\n",
       "    <tr>\n",
       "      <th id=\"T_0c4fd_level0_row3\" class=\"row_heading level0 row3\" >3</th>\n",
       "      <td id=\"T_0c4fd_row3_col0\" class=\"data row3 col0\" >0.6429</td>\n",
       "      <td id=\"T_0c4fd_row3_col1\" class=\"data row3 col1\" >0.8573</td>\n",
       "      <td id=\"T_0c4fd_row3_col2\" class=\"data row3 col2\" >1.0000</td>\n",
       "      <td id=\"T_0c4fd_row3_col3\" class=\"data row3 col3\" >0.6429</td>\n",
       "      <td id=\"T_0c4fd_row3_col4\" class=\"data row3 col4\" >0.7826</td>\n",
       "      <td id=\"T_0c4fd_row3_col5\" class=\"data row3 col5\" >0.0000</td>\n",
       "      <td id=\"T_0c4fd_row3_col6\" class=\"data row3 col6\" >0.0000</td>\n",
       "    </tr>\n",
       "    <tr>\n",
       "      <th id=\"T_0c4fd_level0_row4\" class=\"row_heading level0 row4\" >4</th>\n",
       "      <td id=\"T_0c4fd_row4_col0\" class=\"data row4 col0\" >0.6429</td>\n",
       "      <td id=\"T_0c4fd_row4_col1\" class=\"data row4 col1\" >0.7244</td>\n",
       "      <td id=\"T_0c4fd_row4_col2\" class=\"data row4 col2\" >1.0000</td>\n",
       "      <td id=\"T_0c4fd_row4_col3\" class=\"data row4 col3\" >0.6429</td>\n",
       "      <td id=\"T_0c4fd_row4_col4\" class=\"data row4 col4\" >0.7826</td>\n",
       "      <td id=\"T_0c4fd_row4_col5\" class=\"data row4 col5\" >0.0000</td>\n",
       "      <td id=\"T_0c4fd_row4_col6\" class=\"data row4 col6\" >0.0000</td>\n",
       "    </tr>\n",
       "    <tr>\n",
       "      <th id=\"T_0c4fd_level0_row5\" class=\"row_heading level0 row5\" >5</th>\n",
       "      <td id=\"T_0c4fd_row5_col0\" class=\"data row5 col0\" >0.6571</td>\n",
       "      <td id=\"T_0c4fd_row5_col1\" class=\"data row5 col1\" >0.8632</td>\n",
       "      <td id=\"T_0c4fd_row5_col2\" class=\"data row5 col2\" >1.0000</td>\n",
       "      <td id=\"T_0c4fd_row5_col3\" class=\"data row5 col3\" >0.6571</td>\n",
       "      <td id=\"T_0c4fd_row5_col4\" class=\"data row5 col4\" >0.7931</td>\n",
       "      <td id=\"T_0c4fd_row5_col5\" class=\"data row5 col5\" >0.0000</td>\n",
       "      <td id=\"T_0c4fd_row5_col6\" class=\"data row5 col6\" >0.0000</td>\n",
       "    </tr>\n",
       "    <tr>\n",
       "      <th id=\"T_0c4fd_level0_row6\" class=\"row_heading level0 row6\" >6</th>\n",
       "      <td id=\"T_0c4fd_row6_col0\" class=\"data row6 col0\" >0.6571</td>\n",
       "      <td id=\"T_0c4fd_row6_col1\" class=\"data row6 col1\" >0.7591</td>\n",
       "      <td id=\"T_0c4fd_row6_col2\" class=\"data row6 col2\" >1.0000</td>\n",
       "      <td id=\"T_0c4fd_row6_col3\" class=\"data row6 col3\" >0.6571</td>\n",
       "      <td id=\"T_0c4fd_row6_col4\" class=\"data row6 col4\" >0.7931</td>\n",
       "      <td id=\"T_0c4fd_row6_col5\" class=\"data row6 col5\" >0.0000</td>\n",
       "      <td id=\"T_0c4fd_row6_col6\" class=\"data row6 col6\" >0.0000</td>\n",
       "    </tr>\n",
       "    <tr>\n",
       "      <th id=\"T_0c4fd_level0_row7\" class=\"row_heading level0 row7\" >7</th>\n",
       "      <td id=\"T_0c4fd_row7_col0\" class=\"data row7 col0\" >0.6571</td>\n",
       "      <td id=\"T_0c4fd_row7_col1\" class=\"data row7 col1\" >0.9330</td>\n",
       "      <td id=\"T_0c4fd_row7_col2\" class=\"data row7 col2\" >1.0000</td>\n",
       "      <td id=\"T_0c4fd_row7_col3\" class=\"data row7 col3\" >0.6571</td>\n",
       "      <td id=\"T_0c4fd_row7_col4\" class=\"data row7 col4\" >0.7931</td>\n",
       "      <td id=\"T_0c4fd_row7_col5\" class=\"data row7 col5\" >0.0000</td>\n",
       "      <td id=\"T_0c4fd_row7_col6\" class=\"data row7 col6\" >0.0000</td>\n",
       "    </tr>\n",
       "    <tr>\n",
       "      <th id=\"T_0c4fd_level0_row8\" class=\"row_heading level0 row8\" >8</th>\n",
       "      <td id=\"T_0c4fd_row8_col0\" class=\"data row8 col0\" >0.6571</td>\n",
       "      <td id=\"T_0c4fd_row8_col1\" class=\"data row8 col1\" >0.8986</td>\n",
       "      <td id=\"T_0c4fd_row8_col2\" class=\"data row8 col2\" >1.0000</td>\n",
       "      <td id=\"T_0c4fd_row8_col3\" class=\"data row8 col3\" >0.6571</td>\n",
       "      <td id=\"T_0c4fd_row8_col4\" class=\"data row8 col4\" >0.7931</td>\n",
       "      <td id=\"T_0c4fd_row8_col5\" class=\"data row8 col5\" >0.0000</td>\n",
       "      <td id=\"T_0c4fd_row8_col6\" class=\"data row8 col6\" >0.0000</td>\n",
       "    </tr>\n",
       "    <tr>\n",
       "      <th id=\"T_0c4fd_level0_row9\" class=\"row_heading level0 row9\" >9</th>\n",
       "      <td id=\"T_0c4fd_row9_col0\" class=\"data row9 col0\" >0.6522</td>\n",
       "      <td id=\"T_0c4fd_row9_col1\" class=\"data row9 col1\" >0.8532</td>\n",
       "      <td id=\"T_0c4fd_row9_col2\" class=\"data row9 col2\" >1.0000</td>\n",
       "      <td id=\"T_0c4fd_row9_col3\" class=\"data row9 col3\" >0.6522</td>\n",
       "      <td id=\"T_0c4fd_row9_col4\" class=\"data row9 col4\" >0.7895</td>\n",
       "      <td id=\"T_0c4fd_row9_col5\" class=\"data row9 col5\" >0.0000</td>\n",
       "      <td id=\"T_0c4fd_row9_col6\" class=\"data row9 col6\" >0.0000</td>\n",
       "    </tr>\n",
       "    <tr>\n",
       "      <th id=\"T_0c4fd_level0_row10\" class=\"row_heading level0 row10\" >Mean</th>\n",
       "      <td id=\"T_0c4fd_row10_col0\" class=\"data row10 col0\" >0.6495</td>\n",
       "      <td id=\"T_0c4fd_row10_col1\" class=\"data row10 col1\" >0.8521</td>\n",
       "      <td id=\"T_0c4fd_row10_col2\" class=\"data row10 col2\" >1.0000</td>\n",
       "      <td id=\"T_0c4fd_row10_col3\" class=\"data row10 col3\" >0.6495</td>\n",
       "      <td id=\"T_0c4fd_row10_col4\" class=\"data row10 col4\" >0.7875</td>\n",
       "      <td id=\"T_0c4fd_row10_col5\" class=\"data row10 col5\" >0.0000</td>\n",
       "      <td id=\"T_0c4fd_row10_col6\" class=\"data row10 col6\" >0.0000</td>\n",
       "    </tr>\n",
       "    <tr>\n",
       "      <th id=\"T_0c4fd_level0_row11\" class=\"row_heading level0 row11\" >Std</th>\n",
       "      <td id=\"T_0c4fd_row11_col0\" class=\"data row11 col0\" >0.0068</td>\n",
       "      <td id=\"T_0c4fd_row11_col1\" class=\"data row11 col1\" >0.0607</td>\n",
       "      <td id=\"T_0c4fd_row11_col2\" class=\"data row11 col2\" >0.0000</td>\n",
       "      <td id=\"T_0c4fd_row11_col3\" class=\"data row11 col3\" >0.0068</td>\n",
       "      <td id=\"T_0c4fd_row11_col4\" class=\"data row11 col4\" >0.0050</td>\n",
       "      <td id=\"T_0c4fd_row11_col5\" class=\"data row11 col5\" >0.0000</td>\n",
       "      <td id=\"T_0c4fd_row11_col6\" class=\"data row11 col6\" >0.0000</td>\n",
       "    </tr>\n",
       "  </tbody>\n",
       "</table>\n"
      ],
      "text/plain": [
       "<pandas.io.formats.style.Styler at 0x28d6cbca0>"
      ]
     },
     "metadata": {},
     "output_type": "display_data"
    },
    {
     "data": {
      "application/vnd.jupyter.widget-view+json": {
       "model_id": "4ab684ae543d4b95ae3e6db74f0411f1",
       "version_major": 2,
       "version_minor": 0
      },
      "text/plain": [
       "Processing:   0%|          | 0/4 [00:00<?, ?it/s]"
      ]
     },
     "metadata": {},
     "output_type": "display_data"
    },
    {
     "data": {
      "application/vnd.jupyter.widget-view+json": {
       "model_id": "5d682326bcd8478c96795c2c6009fd29",
       "version_major": 2,
       "version_minor": 0
      },
      "text/plain": [
       "interactive(children=(ToggleButtons(description='Plot Type:', icons=('',), options=(('Pipeline Plot', 'pipelin…"
      ]
     },
     "metadata": {},
     "output_type": "display_data"
    }
   ],
   "source": [
    "\n",
    "rf = create_model('rf')\n",
    "evaluate_model(rf)"
   ]
  },
  {
   "cell_type": "code",
   "execution_count": 36,
   "metadata": {},
   "outputs": [
    {
     "name": "stdout",
     "output_type": "stream",
     "text": [
      "--------------------------------\n",
      "Random Forest - Results:\n",
      "      Accuracy     AUC  Recall   Prec.      F1  Kappa  MCC\n",
      "Fold                                                      \n",
      "0       0.6429  0.8813     1.0  0.6429  0.7826    0.0  0.0\n",
      "1       0.6429  0.8524     1.0  0.6429  0.7826    0.0  0.0\n",
      "2       0.6429  0.8982     1.0  0.6429  0.7826    0.0  0.0\n",
      "3       0.6429  0.8573     1.0  0.6429  0.7826    0.0  0.0\n",
      "4       0.6429  0.7244     1.0  0.6429  0.7826    0.0  0.0\n",
      "5       0.6571  0.8632     1.0  0.6571  0.7931    0.0  0.0\n",
      "6       0.6571  0.7591     1.0  0.6571  0.7931    0.0  0.0\n",
      "7       0.6571  0.9330     1.0  0.6571  0.7931    0.0  0.0\n",
      "8       0.6571  0.8986     1.0  0.6571  0.7931    0.0  0.0\n",
      "9       0.6522  0.8532     1.0  0.6522  0.7895    0.0  0.0\n",
      "Mean    0.6495  0.8521     1.0  0.6495  0.7875    0.0  0.0\n",
      "Std     0.0068  0.0607     0.0  0.0068  0.0050    0.0  0.0\n",
      "--------------------------------\n"
     ]
    }
   ],
   "source": [
    "print(\"--------------------------------\")\n",
    "results = pull()\n",
    "print(\"Random Forest - Results:\")\n",
    "print(results)\n",
    "print(\"--------------------------------\")\n"
   ]
  },
  {
   "cell_type": "code",
   "execution_count": null,
   "metadata": {},
   "outputs": [],
   "source": []
  }
 ],
 "metadata": {
  "interpreter": {
   "hash": "b0fa6594d8f4cbf19f97940f81e996739fb7646882a419484c72d19e05852a7e"
  },
  "kernelspec": {
   "display_name": "Python 3.9.12 64-bit",
   "language": "python",
   "name": "python3"
  },
  "language_info": {
   "codemirror_mode": {
    "name": "ipython",
    "version": 3
   },
   "file_extension": ".py",
   "mimetype": "text/x-python",
   "name": "python",
   "nbconvert_exporter": "python",
   "pygments_lexer": "ipython3",
   "version": "3.9.12"
  },
  "orig_nbformat": 4
 },
 "nbformat": 4,
 "nbformat_minor": 2
}
