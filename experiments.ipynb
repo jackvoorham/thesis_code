{
 "cells": [
  {
   "cell_type": "code",
   "execution_count": 36,
   "metadata": {},
   "outputs": [],
   "source": [
    "import pandas as pd\n",
    "from pycaret.classification import *\n",
    "from anonymizeip import anonymize_ip\n",
    "\n",
    "\n",
    "sample = True \n",
    "binary = False "
   ]
  },
  {
   "cell_type": "code",
   "execution_count": null,
   "metadata": {},
   "outputs": [],
   "source": [
    "df = pd.read_csv(\"NF-ToN-IoT.csv\")"
   ]
  },
  {
   "cell_type": "code",
   "execution_count": null,
   "metadata": {},
   "outputs": [],
   "source": [
    "df.columns"
   ]
  },
  {
   "cell_type": "code",
   "execution_count": 35,
   "metadata": {},
   "outputs": [],
   "source": [
    "# Remove non-ipfix standardized features\n",
    "# See: https://www.ntop.org/guides/nprobe/cli_options.html#netflow-v9-ipfix-format-t\n",
    "# Thesis: Refer to table 2 for feature names and descriptions\n",
    "\n",
    "df_ipfix = df[['IPV4_SRC_ADDR', 'IPV4_DST_ADDR', 'L4_SRC_PORT', 'L4_DST_PORT', 'PROTOCOL', 'L7_PROTO', 'IN_BYTES', 'OUT_BYTES', 'IN_PKTS', 'OUT_PKTS', 'TCP_FLAGS', 'FLOW_DURATION_MILLISECONDS', 'Label', 'Attack']]\n",
    "df_ipfix.dtypes\n",
    "df_ipfix['IPV4_SRC_ADDR'] = df_ipfix['IPV4_SRC_ADDR'].astype('category')\n",
    "df_ipfix['IPV4_DST_ADDR'] = df_ipfix['IPV4_DST_ADDR'].astype('category')\n",
    "df_ipfix['L4_SRC_PORT'] = df_ipfix['L4_SRC_PORT'].astype('uint16')\n",
    "df_ipfix['L4_DST_PORT'] = df_ipfix['L4_DST_PORT'].astype('uint16')\n"
   ]
  },
  {
   "cell_type": "code",
   "execution_count": null,
   "metadata": {},
   "outputs": [],
   "source": [
    "df_ipfix.head()"
   ]
  },
  {
   "cell_type": "code",
   "execution_count": null,
   "metadata": {},
   "outputs": [],
   "source": [
    "if(binary):\n",
    "    df_ = df_ipfix.drop(\"Attack\", axis=1)\n",
    "else:\n",
    "    df_ = df_ipfix.drop(\"Label\", axis=1)\n",
    "\n",
    "# Samples\n",
    "if(sample):\n",
    "    df_ = df_.sample(n=500000)\n",
    "\n",
    "df['Label'].value_counts()"
   ]
  },
  {
   "cell_type": "markdown",
   "metadata": {},
   "source": [
    "## Feature Anonymization"
   ]
  },
  {
   "cell_type": "markdown",
   "metadata": {},
   "source": [
    "### IP-address anonymization "
   ]
  },
  {
   "cell_type": "code",
   "execution_count": null,
   "metadata": {},
   "outputs": [],
   "source": [
    "#pd.set_option(\"display.max_rows\", None)\n",
    "\n",
    "# /24 network address truncation\n",
    "\n",
    "if(0):\n",
    "    df_['IPV4_DST_ADDR'] = df_['IPV4_DST_ADDR'].apply(lambda x: anonymize_ip(x))\n",
    "    df_['IPV4_SRC_ADDR'] = df_['IPV4_SRC_ADDR'].apply(lambda x: anonymize_ip(x))\n",
    "\n",
    "# black-marker anonymization\n",
    "if(0):\n",
    "    df_['IPV4_SRC_ADDR'] = 0\n",
    "    df_['IPV4_DST_ADDR'] = 0\n",
    "    df_['IPV4_SRC_ADDR'] = df_['IPV4_SRC_ADDR'].astype(str) \n",
    "    df_['IPV4_DST_ADDR'] = df_['IPV4_DST_ADDR'].astype(str)\n",
    "    df_.dtypes\n",
    "\n",
    "df_.head()\n",
    "df_['IPV4_SRC_ADDR'].value_counts()"
   ]
  },
  {
   "cell_type": "code",
   "execution_count": null,
   "metadata": {},
   "outputs": [],
   "source": [
    "session_binary = setup(df_, target = 'Attack', experiment_name='binary', categorical_features = ['IPV4_SRC_ADDR', 'IPV4_DST_ADDR', 'L4_SRC_PORT', 'L4_DST_PORT', 'PROTOCOL', 'L7_PROTO', 'TCP_FLAGS'])"
   ]
  },
  {
   "cell_type": "code",
   "execution_count": null,
   "metadata": {},
   "outputs": [],
   "source": [
    "best = compare_models()\n",
    "\n",
    "evaluate_model(best)"
   ]
  }
 ],
 "metadata": {
  "interpreter": {
   "hash": "b0fa6594d8f4cbf19f97940f81e996739fb7646882a419484c72d19e05852a7e"
  },
  "kernelspec": {
   "display_name": "Python 3.9.12 64-bit",
   "language": "python",
   "name": "python3"
  },
  "language_info": {
   "codemirror_mode": {
    "name": "ipython",
    "version": 3
   },
   "file_extension": ".py",
   "mimetype": "text/x-python",
   "name": "python",
   "nbconvert_exporter": "python",
   "pygments_lexer": "ipython3",
   "version": "3.9.12"
  },
  "orig_nbformat": 4
 },
 "nbformat": 4,
 "nbformat_minor": 2
}
