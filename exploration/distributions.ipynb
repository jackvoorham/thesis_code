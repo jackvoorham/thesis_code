{
 "cells": [
  {
   "cell_type": "code",
   "execution_count": 2,
   "metadata": {},
   "outputs": [],
   "source": [
    "import pandas as pd"
   ]
  },
  {
   "cell_type": "code",
   "execution_count": 3,
   "metadata": {},
   "outputs": [],
   "source": [
    "df = pd.read_csv('../NF-ToN-IoT.csv')"
   ]
  },
  {
   "cell_type": "code",
   "execution_count": 4,
   "metadata": {},
   "outputs": [
    {
     "data": {
      "text/plain": [
       "IPV4_SRC_ADDR                  object\n",
       "L4_SRC_PORT                     int64\n",
       "IPV4_DST_ADDR                  object\n",
       "L4_DST_PORT                     int64\n",
       "PROTOCOL                        int64\n",
       "L7_PROTO                      float64\n",
       "IN_BYTES                        int64\n",
       "OUT_BYTES                       int64\n",
       "IN_PKTS                         int64\n",
       "OUT_PKTS                        int64\n",
       "TCP_FLAGS                       int64\n",
       "FLOW_DURATION_MILLISECONDS      int64\n",
       "Label                           int64\n",
       "Attack                         object\n",
       "dtype: object"
      ]
     },
     "execution_count": 4,
     "metadata": {},
     "output_type": "execute_result"
    }
   ],
   "source": [
    "df.dtypes"
   ]
  },
  {
   "cell_type": "code",
   "execution_count": 29,
   "metadata": {},
   "outputs": [
    {
     "data": {
      "text/plain": [
       "6     1251484\n",
       "17     121467\n",
       "2        5846\n",
       "1         344\n",
       "58        133\n",
       "Name: PROTOCOL, dtype: int64"
      ]
     },
     "execution_count": 29,
     "metadata": {},
     "output_type": "execute_result"
    }
   ],
   "source": [
    "df['PROTOCOL'].value_counts()"
   ]
  }
 ],
 "metadata": {
  "interpreter": {
   "hash": "b0fa6594d8f4cbf19f97940f81e996739fb7646882a419484c72d19e05852a7e"
  },
  "kernelspec": {
   "display_name": "Python 3.9.12 64-bit",
   "language": "python",
   "name": "python3"
  },
  "language_info": {
   "codemirror_mode": {
    "name": "ipython",
    "version": 3
   },
   "file_extension": ".py",
   "mimetype": "text/x-python",
   "name": "python",
   "nbconvert_exporter": "python",
   "pygments_lexer": "ipython3",
   "version": "3.9.12"
  },
  "orig_nbformat": 4
 },
 "nbformat": 4,
 "nbformat_minor": 2
}
